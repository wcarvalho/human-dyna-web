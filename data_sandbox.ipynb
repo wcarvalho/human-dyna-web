{
 "cells": [
  {
   "cell_type": "code",
   "execution_count": 1,
   "id": "85ea6f45-f94e-4cc7-9c33-78e598e5ec4c",
   "metadata": {},
   "outputs": [],
   "source": [
    "%load_ext autoreload\n",
    "%autoreload 2\n"
   ]
  },
  {
   "cell_type": "code",
   "execution_count": 2,
   "id": "4d1e165b-912a-4d3e-a6d7-3d512282eda9",
   "metadata": {},
   "outputs": [],
   "source": [
    "# !pip install polars"
   ]
  },
  {
   "cell_type": "code",
   "execution_count": 3,
   "id": "02ad99fe-dbd3-4bde-8f60-99d269a9c897",
   "metadata": {},
   "outputs": [
    {
     "name": "stdout",
     "output_type": "stream",
     "text": [
      "No file specified for image dict.\n",
      "Using: /Users/wilka/git/research/human-dyna-web/libraries/housemaze/housemaze/image_data.pkl\n",
      "Compiling jax environment functions.\n",
      "\ttime: 1.129429817199707\n",
      "Compiling multi-render function.\n",
      "\ttime: 0.0602569580078125\n"
     ]
    }
   ],
   "source": [
    "from typing import List\n",
    "import numpy as np\n",
    "\n",
    "import json\n",
    "import copy\n",
    "import load_data\n",
    "from pprint import pprint\n",
    "import matplotlib.pyplot as plt\n",
    "import polars as pl\n",
    "import experiment_1 as experiment\n",
    "\n",
    "from collections import defaultdict\n",
    "import jax.numpy as jnp\n",
    "import jax.tree_util as jtu\n",
    "import jax\n",
    "\n",
    "from load_data import get_timestep, compute_reaction_time, EpisodeData\n",
    "from load_data import render_episode, get_task_object, object_idx_to_name, success_fn, get_task_room, create_maps\n",
    "from load_data import filter_episodes\n"
   ]
  },
  {
   "cell_type": "code",
   "execution_count": 14,
   "id": "90bf33d1-dd8c-4673-b10a-d376725d2cbc",
   "metadata": {},
   "outputs": [],
   "source": [
    "# file_path = \"test_data.json\"\n",
    "file_path = 'data/data_user=64_name=r0-v2_exp=1_debug=1.json'\n",
    "with open(file_path, 'r') as f:\n",
    "        data_dicts = json.load(f)"
   ]
  },
  {
   "cell_type": "code",
   "execution_count": 15,
   "id": "02845c3d-a297-4874-8383-850b77ece100",
   "metadata": {},
   "outputs": [
    {
     "data": {
      "text/plain": [
       "{'finished': True}"
      ]
     },
     "execution_count": 15,
     "metadata": {},
     "output_type": "execute_result"
    }
   ],
   "source": [
    "finished = data_dicts.pop(-1)\n",
    "finished"
   ]
  },
  {
   "cell_type": "markdown",
   "id": "2a87b81b-0c7b-46b5-8122-6ebb871da2b3",
   "metadata": {},
   "source": [
    "EVERY SINGLE TIMESTEP of EVERY EPISODE is all in ONE GIANT list\n",
    "\n",
    "we want to separate them out. \n",
    "\n",
    "I'll separate them out into episodes\n"
   ]
  },
  {
   "cell_type": "code",
   "execution_count": 16,
   "id": "5e7acb62-2dca-4dd4-807a-55725751b179",
   "metadata": {},
   "outputs": [
    {
     "name": "stdout",
     "output_type": "stream",
     "text": [
      "Total seconds from 1st time-step to last action: 22.32\n",
      "Total seconds across image-action pairs: 20.06\n"
     ]
    }
   ],
   "source": [
    "# before processing compute times of exp\n",
    "# sum each image-action pair\n",
    "start_end = load_data.time_diff(data_dicts[0]['image_seen_time'], data_dicts[-1]['action_taken_time'])/1000\n",
    "print(f\"Total seconds from 1st time-step to last action: {start_end:.2f}\")\n",
    "\n",
    "# sum each image-action pair\n",
    "total_timestep_times = sum([load_data.time_diff(d['image_seen_time'], d['action_taken_time']) for d in data_dicts])/1000\n",
    "print(f\"Total seconds across image-action pairs: {total_timestep_times:.2f}\")\n"
   ]
  },
  {
   "cell_type": "code",
   "execution_count": 17,
   "id": "40eabb55-5ba0-41e1-8a8e-d33e325f5d8f",
   "metadata": {},
   "outputs": [],
   "source": [
    "# list of every individual time-step\n",
    "# remove all blocks that are \"practice\"\n",
    "data_dicts = [row for row in data_dicts if not 'practice' in row['metadata']['block_metadata']['desc']]\n"
   ]
  },
  {
   "cell_type": "markdown",
   "id": "766b5f9a-5145-45fb-a51c-8141ee7c33d6",
   "metadata": {},
   "source": [
    "# Below I'll print out values of a random datapoint"
   ]
  },
  {
   "cell_type": "code",
   "execution_count": 18,
   "id": "06a686a7-a21e-4bee-94cd-dbb0305ab93b",
   "metadata": {},
   "outputs": [
    {
     "name": "stdout",
     "output_type": "stream",
     "text": [
      "['id',\n",
      " 'session_id',\n",
      " 'stage_idx',\n",
      " 'image_seen_time',\n",
      " 'action_taken_time',\n",
      " 'computer_interaction',\n",
      " 'action_name',\n",
      " 'action_idx',\n",
      " 'user_data',\n",
      " 'metadata',\n",
      " 'data']\n"
     ]
    }
   ],
   "source": [
    "# 1 timestep datum\n",
    "datum = data_dicts[1]\n",
    "pprint(list(datum.keys()))"
   ]
  },
  {
   "cell_type": "code",
   "execution_count": 19,
   "id": "40db156e-2ec1-4b9e-b1cf-f596edac2ad5",
   "metadata": {},
   "outputs": [
    {
     "name": "stdout",
     "output_type": "stream",
     "text": [
      "id : 2\n",
      "session_id : 9a2197ba-4e59-4059-b12b-5a864794787d\n",
      "stage_idx : 1\n",
      "image_seen_time : 2024-09-18T23:44:54.881Z\n",
      "action_taken_time : 2024-09-18T23:44:56.786Z\n",
      "computer_interaction : ArrowUp\n",
      "action_name : up\n",
      "action_idx : 3\n"
     ]
    }
   ],
   "source": [
    "for key in [\n",
    "    'id',            # time-step idx. global\n",
    "     'session_id',   # browser session id\n",
    "     'stage_idx',\n",
    "     'image_seen_time',\n",
    "     'action_taken_time',\n",
    "     'computer_interaction',\n",
    "     'action_name',\n",
    "     'action_idx']:\n",
    "    print(key, \":\", datum[key])\n",
    "    "
   ]
  },
  {
   "cell_type": "code",
   "execution_count": 20,
   "id": "293839a6-7781-4886-9524-513462aaab24",
   "metadata": {},
   "outputs": [
    {
     "data": {
      "text/plain": [
       "{'desc': 'training',\n",
       " 'maze': 'maze3',\n",
       " 'eval': False,\n",
       " 'block_metadata': {'manipulation': 1,\n",
       "  'desc': 'shortcut',\n",
       "  'long': 'A shortcut is introduced',\n",
       "  'groups': [[29, 13], [43, 3], [27, 46]],\n",
       "  'char2idx': {'A': 29, 'B': 13, 'C': 43, 'D': 3, 'E': 27, 'F': 46},\n",
       "  'idx': 0},\n",
       " 'nsteps': 2,\n",
       " 'episode_idx': 1,\n",
       " 'nsuccesses': 0}"
      ]
     },
     "execution_count": 20,
     "metadata": {},
     "output_type": "execute_result"
    }
   ],
   "source": [
    "datum['metadata'] # remember, this is for the VERY FIRST timestep of this episode"
   ]
  },
  {
   "cell_type": "code",
   "execution_count": 21,
   "id": "65209996-6049-4f0e-b209-6b6b51b1eee7",
   "metadata": {},
   "outputs": [
    {
     "data": {
      "text/plain": [
       "{'user_id': 64, 'age': 10, 'sex': 'Male'}"
      ]
     },
     "execution_count": 21,
     "metadata": {},
     "output_type": "execute_result"
    }
   ],
   "source": [
    "datum['user_data']"
   ]
  },
  {
   "cell_type": "code",
   "execution_count": 22,
   "id": "b871bbd9-1fca-4fe2-a378-ad2f7af47da6",
   "metadata": {},
   "outputs": [
    {
     "data": {
      "text/plain": [
       "{'stage': \"'not obvious' shortcut\",\n",
       " 'block': 'shortcut',\n",
       " 'manipulation': 1,\n",
       " 'episode_idx': 1,\n",
       " 'eval': True}"
      ]
     },
     "execution_count": 22,
     "metadata": {},
     "output_type": "execute_result"
    }
   ],
   "source": [
    "# we will use this to fill in columns of a pandas dataframe\n",
    "load_data.get_block_stage_description(data_dicts[-1])"
   ]
  },
  {
   "cell_type": "code",
   "execution_count": 13,
   "id": "cdfa0a1f-7670-4dfc-949a-2fb419ac6063",
   "metadata": {},
   "outputs": [
    {
     "name": "stdout",
     "output_type": "stream",
     "text": [
      "Reaction time: 1292.00 milliseconds\n"
     ]
    }
   ],
   "source": [
    "\n",
    "datum = data_dicts[0]\n",
    "action_taken: int = datum['action_idx']\n",
    "image_seen_time: str = datum['image_seen_time']\n",
    "action_taken_time: str = datum['action_taken_time']\n",
    "reaction_time: float = load_data.compute_reaction_time(datum)\n",
    "\n",
    "print(f\"Reaction time: {reaction_time:.2f} milliseconds\")"
   ]
  },
  {
   "cell_type": "code",
   "execution_count": 26,
   "id": "dbd7d7e1-d4ba-4e72-a326-302bbcb11917",
   "metadata": {},
   "outputs": [
    {
     "name": "stdout",
     "output_type": "stream",
     "text": [
      "====================================================================================================\n"
     ]
    },
    {
     "data": {
      "image/png": "[encoded data removed]",
      "text/plain": [
       "<Figure size 400x400 with 1 Axes>"
      ]
     },
     "metadata": {},
     "output_type": "display_data"
    },
    {
     "data": {
      "image/png": "[encoded data removed]",
      "text/plain": [
       "<Figure size 400x400 with 1 Axes>"
      ]
     },
     "metadata": {},
     "output_type": "display_data"
    }
   ],
   "source": [
    "# let's just print out the first few time-step to see what they look like\n",
    "keys = set()\n",
    "nidx = 2\n",
    "# nidx = len(data_dicts)\n",
    "for idx in range(nidx):\n",
    "    datum = data_dicts[idx]\n",
    "    # get the information describing block x stage pairs. you can edit this function if you want\n",
    "    info = load_data.get_block_stage_description(datum)\n",
    "    title = load_data.dict_to_string(info)\n",
    "    if not title in keys:\n",
    "        print(\"=\"*100)\n",
    "        keys.add(title)\n",
    "    \n",
    "    timestep = load_data.get_timestep(datum)\n",
    "    image = experiment.render_fn(timestep)\n",
    "\n",
    "    fig, ax = plt.subplots(1, 1, figsize=(4,4))\n",
    "    ax.imshow(image)\n",
    "    ax.axis('off')\n",
    "    ax.set_title(title, wrap=True)\n",
    "    plt.show()\n",
    "    "
   ]
  },
  {
   "cell_type": "markdown",
   "id": "ceef0a1b-265d-4e24-be7e-70206fbee9c6",
   "metadata": {},
   "source": [
    "# Now I'll actually process the data"
   ]
  },
  {
   "cell_type": "code",
   "execution_count": 23,
   "id": "b30d3a97-4af3-4281-8e85-b02bfb38f4c1",
   "metadata": {},
   "outputs": [],
   "source": [
    "def separate_data_by_block_stage(data: List[dict]):\n",
    "    \"\"\"This function will group episodes by the values from get_block_stage_description\n",
    "\n",
    "    The input i\n",
    "    So for example, each episode with {'stage': \"'not obvious' shortcut\",\n",
    "     'block': 'shortcut',\n",
    "     'manipulation': 1,\n",
    "     'episode_idx': 1,\n",
    "     'eval': True}\n",
    "     with go into its own list.\n",
    "    \"\"\"\n",
    "    grouped_data = defaultdict(list)\n",
    "    episode_idx = -1\n",
    "    keys = set()\n",
    "    infos = dict()\n",
    "    # first group all of the data based on which (stage, block) its in\n",
    "    for datum in data:\n",
    "        info = load_data.get_block_stage_description(datum)\n",
    "        key = load_data.dict_to_string(info)\n",
    "        if not key in keys:\n",
    "            episode_idx += 1\n",
    "            keys.add(key)\n",
    "        info['global_episode_idx'] = episode_idx\n",
    "        \n",
    "        updated_key = load_data.dict_to_string(info)\n",
    "        grouped_data[updated_key].append(datum)\n",
    "        infos[updated_key] = info\n",
    "    return grouped_data, infos\n",
    "\n",
    "gds, gd_infos = separate_data_by_block_stage(data_dicts)\n",
    "# gd_infos"
   ]
  },
  {
   "cell_type": "code",
   "execution_count": 24,
   "id": "ba69b40f-b7c5-4fc3-be25-9288b2c33dd2",
   "metadata": {},
   "outputs": [
    {
     "data": {
      "text/html": [
       "<div><style>\n",
       ".dataframe > thead > tr,\n",
       ".dataframe > tbody > tr {\n",
       "  text-align: right;\n",
       "  white-space: pre-wrap;\n",
       "}\n",
       "</style>\n",
       "<small>shape: (2, 11)</small><table border=\"1\" class=\"dataframe\"><thead><tr><th>stage</th><th>block</th><th>manipulation</th><th>episode_idx</th><th>eval</th><th>global_episode_idx</th><th>task</th><th>room</th><th>user_id</th><th>age</th><th>sex</th></tr><tr><td>str</td><td>str</td><td>i64</td><td>i64</td><td>bool</td><td>i64</td><td>i64</td><td>i64</td><td>i64</td><td>i64</td><td>str</td></tr></thead><tbody><tr><td>&quot;training&quot;</td><td>&quot;shortcut&quot;</td><td>1</td><td>1</td><td>false</td><td>0</td><td>27</td><td>2</td><td>64</td><td>10</td><td>&quot;Male&quot;</td></tr><tr><td>&quot;&#x27;not obvious&#x27; shortcut&quot;</td><td>&quot;shortcut&quot;</td><td>1</td><td>1</td><td>true</td><td>1</td><td>13</td><td>0</td><td>64</td><td>10</td><td>&quot;Male&quot;</td></tr></tbody></table></div>"
      ],
      "text/plain": [
       "shape: (2, 11)\n",
       "┌────────────────────────┬──────────┬──────────────┬─────────────┬───┬──────┬─────────┬─────┬──────┐\n",
       "│ stage                  ┆ block    ┆ manipulation ┆ episode_idx ┆ … ┆ room ┆ user_id ┆ age ┆ sex  │\n",
       "│ ---                    ┆ ---      ┆ ---          ┆ ---         ┆   ┆ ---  ┆ ---     ┆ --- ┆ ---  │\n",
       "│ str                    ┆ str      ┆ i64          ┆ i64         ┆   ┆ i64  ┆ i64     ┆ i64 ┆ str  │\n",
       "╞════════════════════════╪══════════╪══════════════╪═════════════╪═══╪══════╪═════════╪═════╪══════╡\n",
       "│ training               ┆ shortcut ┆ 1            ┆ 1           ┆ … ┆ 2    ┆ 64      ┆ 10  ┆ Male │\n",
       "│ 'not obvious' shortcut ┆ shortcut ┆ 1            ┆ 1           ┆ … ┆ 0    ┆ 64      ┆ 10  ┆ Male │\n",
       "└────────────────────────┴──────────┴──────────────┴─────────────┴───┴──────┴─────────┴─────┴──────┘"
      ]
     },
     "execution_count": 24,
     "metadata": {},
     "output_type": "execute_result"
    }
   ],
   "source": [
    "\n",
    "def make_episode_data(data: List[dict]):\n",
    "    \"\"\"This groups all of the data by block/stage information and prepares \n",
    "        (1) a list of EpisodeData objects per block/stage\n",
    "        (2) a dataframe which summarizes all episode information.\n",
    "\n",
    "    The dataframe can be used to get indices into the list of EpisodeData for further computation.\n",
    "    \"\"\"\n",
    "    gds, gd_infos = separate_data_by_block_stage(data)\n",
    "\n",
    "    episode_data = [None]*len(gds.keys())\n",
    "    episode_info = [None]*len(gds.keys())\n",
    "    for key in gds.keys():\n",
    "        red = raw_episode_data = gds[key]\n",
    "        # get actions\n",
    "\n",
    "        actions = jnp.asarray([datum['action_idx'] for datum in red])\n",
    "\n",
    "        # collect timesteps\n",
    "        timesteps = [get_timestep(datum) for datum in red]\n",
    "        \n",
    "        # combine them into trajectory\n",
    "        timesteps = jtu.tree_map(\n",
    "                lambda *v: jnp.stack(v), *timesteps)\n",
    "\n",
    "        positions = timesteps.state.agent_pos\n",
    "\n",
    "        reaction_times = [compute_reaction_time(datum) for datum in red]\n",
    "        reaction_times = jnp.asarray(reaction_times)\n",
    "\n",
    "        episode_idx = gd_infos[key]['global_episode_idx']\n",
    "        episode_data[episode_idx] = EpisodeData(\n",
    "            actions=actions,\n",
    "            positions=positions,\n",
    "            reaction_times=reaction_times,\n",
    "            timesteps=timesteps,\n",
    "            \n",
    "        )\n",
    "\n",
    "        ######################\n",
    "        # THIS IS WHERE YOU'LL WANT TO INSERT OTHER EPISODE LEVEL INFO TO TRACK IN DATAFRAME!!!\n",
    "        ######################\n",
    "        info = copy.deepcopy(gd_infos[key])\n",
    "        info.update(\n",
    "            task=get_task_object(timesteps),\n",
    "            room=get_task_room(timesteps),\n",
    "        )\n",
    "        datum0 = red[0]\n",
    "        # add in user information to dataframe\n",
    "        info.update(datum0['user_data'])\n",
    "        \n",
    "        episode_info[episode_idx] = info\n",
    "\n",
    "    episode_info = pl.DataFrame(episode_info)\n",
    "    return episode_data, episode_info\n",
    "    \n",
    "# NOTE: manipulation room is __always__ room 0, even if task objects differ\n",
    "all_episode_data, all_episode_info = make_episode_data(data_dicts)\n",
    "all_episode_info.head()"
   ]
  },
  {
   "cell_type": "code",
   "execution_count": 25,
   "id": "d3580a47-b1c3-4938-8608-1eec695ca11f",
   "metadata": {},
   "outputs": [
    {
     "name": "stdout",
     "output_type": "stream",
     "text": [
      "---------- 0\n"
     ]
    },
    {
     "data": {
      "image/png": "[encoded data removed]",
      "text/plain": [
       "<Figure size 500x500 with 2 Axes>"
      ]
     },
     "metadata": {},
     "output_type": "display_data"
    },
    {
     "name": "stdout",
     "output_type": "stream",
     "text": [
      "Task object idx: 27\n",
      "Task object: tomato\n",
      "Eval? False\n",
      "Success? True\n",
      "---------- 1\n"
     ]
    },
    {
     "data": {
      "image/png": "[encoded data removed]",
      "text/plain": [
       "<Figure size 500x500 with 2 Axes>"
      ]
     },
     "metadata": {},
     "output_type": "display_data"
    },
    {
     "name": "stdout",
     "output_type": "stream",
     "text": [
      "Task object idx: 13\n",
      "Task object: potato\n",
      "Eval? True\n",
      "Success? True\n"
     ]
    }
   ],
   "source": [
    "# Here I'll just print some useful information for a single single episode\n",
    "nepisodes = 2\n",
    "idxs = range(nepisodes)\n",
    "idxs = range(len(all_episode_data))\n",
    "# idxs = [len(all_episode_data)-1, len(all_episode_data)-2]\n",
    "for idx in idxs:\n",
    "    print('-'*10, idx)\n",
    "    episode_data = all_episode_data[idx]\n",
    "    episode_info = all_episode_info[idx]\n",
    "\n",
    "    # Visualize 1st and last images of episode\n",
    "    fig, axs = plt.subplots(1, 2, figsize=(5,5))\n",
    "    start = render_episode(episode_data.timesteps, t=0)\n",
    "    end = render_episode(episode_data.timesteps, t=-1)\n",
    "    axs[0].imshow(start)\n",
    "    axs[0].set_title(\"First timestep\")\n",
    "    axs[0].axis('off')\n",
    "    \n",
    "    axs[1].imshow(end)\n",
    "    axs[1].set_title(\"Final timestep\")\n",
    "    axs[1].axis('off')\n",
    "    plt.show()\n",
    "\n",
    "    # Get the task object of the epside and print its name\n",
    "    object_idx = get_task_object(episode_data.timesteps)\n",
    "    object_name = object_idx_to_name(object_idx)\n",
    "    print(\"Task object idx:\", object_idx)\n",
    "    print(\"Task object:\", object_name)\n",
    "\n",
    "    print(\"Eval?\", episode_info['eval'].item())\n",
    "    \n",
    "    print(\"Success?\", success_fn(episode_data.timesteps))\n"
   ]
  },
  {
   "cell_type": "code",
   "execution_count": null,
   "id": "31167b4d-0e6f-4a31-8003-83378f617951",
   "metadata": {},
   "outputs": [],
   "source": []
  },
  {
   "cell_type": "code",
   "execution_count": null,
   "id": "724e6180-d515-4bb6-bded-5a0016a9369d",
   "metadata": {},
   "outputs": [],
   "source": []
  },
  {
   "cell_type": "code",
   "execution_count": null,
   "id": "0c716f29-c1a9-4e85-a12a-5c4bf88ae35b",
   "metadata": {},
   "outputs": [],
   "source": []
  },
  {
   "cell_type": "code",
   "execution_count": null,
   "id": "4e2a12fa-b461-4a90-8907-e8aa307964c1",
   "metadata": {},
   "outputs": [],
   "source": []
  },
  {
   "cell_type": "markdown",
   "id": "b727e91c-2ff2-4c2e-a0a6-650c1b0d32c8",
   "metadata": {},
   "source": [
    "# Example aggregating information"
   ]
  },
  {
   "cell_type": "code",
   "execution_count": 20,
   "id": "99d12cc3-7905-41c8-b798-3428175192ce",
   "metadata": {},
   "outputs": [
    {
     "data": {
      "text/html": [
       "<div><style>\n",
       ".dataframe > thead > tr,\n",
       ".dataframe > tbody > tr {\n",
       "  text-align: right;\n",
       "  white-space: pre-wrap;\n",
       "}\n",
       "</style>\n",
       "<small>shape: (5, 11)</small><table border=\"1\" class=\"dataframe\"><thead><tr><th>stage</th><th>block</th><th>manipulation</th><th>episode_idx</th><th>eval</th><th>global_episode_idx</th><th>task</th><th>room</th><th>user_id</th><th>age</th><th>sex</th></tr><tr><td>str</td><td>str</td><td>i64</td><td>i64</td><td>bool</td><td>i64</td><td>i64</td><td>i64</td><td>i64</td><td>i64</td><td>str</td></tr></thead><tbody><tr><td>&quot;training&quot;</td><td>&quot;probing for planning near goal&quot;</td><td>4</td><td>1</td><td>false</td><td>0</td><td>43</td><td>1</td><td>43</td><td>45</td><td>&quot;Male&quot;</td></tr><tr><td>&quot;training&quot;</td><td>&quot;probing for planning near goal&quot;</td><td>4</td><td>2</td><td>false</td><td>1</td><td>29</td><td>0</td><td>43</td><td>45</td><td>&quot;Male&quot;</td></tr><tr><td>&quot;off-task object regular&quot;</td><td>&quot;probing for planning near goal&quot;</td><td>4</td><td>1</td><td>true</td><td>2</td><td>13</td><td>0</td><td>43</td><td>45</td><td>&quot;Male&quot;</td></tr><tr><td>&quot;off-task object flipped&quot;</td><td>&quot;probing for planning near goal&quot;</td><td>4</td><td>1</td><td>true</td><td>3</td><td>13</td><td>0</td><td>43</td><td>45</td><td>&quot;Male&quot;</td></tr><tr><td>&quot;training&quot;</td><td>&quot;shortcut&quot;</td><td>1</td><td>1</td><td>false</td><td>4</td><td>43</td><td>1</td><td>43</td><td>45</td><td>&quot;Male&quot;</td></tr></tbody></table></div>"
      ],
      "text/plain": [
       "shape: (5, 11)\n",
       "┌─────────────────┬─────────────────┬──────────────┬─────────────┬───┬──────┬─────────┬─────┬──────┐\n",
       "│ stage           ┆ block           ┆ manipulation ┆ episode_idx ┆ … ┆ room ┆ user_id ┆ age ┆ sex  │\n",
       "│ ---             ┆ ---             ┆ ---          ┆ ---         ┆   ┆ ---  ┆ ---     ┆ --- ┆ ---  │\n",
       "│ str             ┆ str             ┆ i64          ┆ i64         ┆   ┆ i64  ┆ i64     ┆ i64 ┆ str  │\n",
       "╞═════════════════╪═════════════════╪══════════════╪═════════════╪═══╪══════╪═════════╪═════╪══════╡\n",
       "│ training        ┆ probing for     ┆ 4            ┆ 1           ┆ … ┆ 1    ┆ 43      ┆ 45  ┆ Male │\n",
       "│                 ┆ planning near   ┆              ┆             ┆   ┆      ┆         ┆     ┆      │\n",
       "│                 ┆ goal            ┆              ┆             ┆   ┆      ┆         ┆     ┆      │\n",
       "│ training        ┆ probing for     ┆ 4            ┆ 2           ┆ … ┆ 0    ┆ 43      ┆ 45  ┆ Male │\n",
       "│                 ┆ planning near   ┆              ┆             ┆   ┆      ┆         ┆     ┆      │\n",
       "│                 ┆ goal            ┆              ┆             ┆   ┆      ┆         ┆     ┆      │\n",
       "│ off-task object ┆ probing for     ┆ 4            ┆ 1           ┆ … ┆ 0    ┆ 43      ┆ 45  ┆ Male │\n",
       "│ regular         ┆ planning near   ┆              ┆             ┆   ┆      ┆         ┆     ┆      │\n",
       "│                 ┆ goal            ┆              ┆             ┆   ┆      ┆         ┆     ┆      │\n",
       "│ off-task object ┆ probing for     ┆ 4            ┆ 1           ┆ … ┆ 0    ┆ 43      ┆ 45  ┆ Male │\n",
       "│ flipped         ┆ planning near   ┆              ┆             ┆   ┆      ┆         ┆     ┆      │\n",
       "│                 ┆ goal            ┆              ┆             ┆   ┆      ┆         ┆     ┆      │\n",
       "│ training        ┆ shortcut        ┆ 1            ┆ 1           ┆ … ┆ 1    ┆ 43      ┆ 45  ┆ Male │\n",
       "└─────────────────┴─────────────────┴──────────────┴─────────────┴───┴──────┴─────────┴─────┴──────┘"
      ]
     },
     "execution_count": 20,
     "metadata": {},
     "output_type": "execute_result"
    }
   ],
   "source": [
    "all_episode_info.head()"
   ]
  },
  {
   "cell_type": "code",
   "execution_count": 21,
   "id": "9c1104d1-435d-4b25-9c59-b06634edfc0d",
   "metadata": {},
   "outputs": [
    {
     "name": "stdout",
     "output_type": "stream",
     "text": [
      "mean: 1.0\n",
      "std: 0.0\n"
     ]
    }
   ],
   "source": [
    "# Compute success rate mean and std\n",
    "\n",
    "def success_mean_std(episode_data_list: List[EpisodeData]):\n",
    "    successes = [success_fn(episode_data.timesteps) for episode_data in episode_data_list]\n",
    "    return np.mean(successes), np.std(successes)\n",
    "\n",
    "# can given in filters as keyword arguments after list of episode_data and episode_info dataframe\n",
    "episodes = filter_episodes(all_episode_data, all_episode_info, manipulation=1, eval=False)\n",
    "mean, std = success_mean_std(episodes)\n",
    "\n",
    "print(\"mean:\", mean)\n",
    "print(\"std:\", std)"
   ]
  },
  {
   "cell_type": "code",
   "execution_count": 22,
   "id": "6e3adefc-5d22-4f2d-a367-0276fe397d72",
   "metadata": {},
   "outputs": [
    {
     "data": {
      "text/plain": [
       "(1, 1)"
      ]
     },
     "execution_count": 22,
     "metadata": {},
     "output_type": "execute_result"
    }
   ],
   "source": [
    "# let's look at the overlap of a train/test example? using manipulation=1\n",
    "train_episodes = filter_episodes(all_episode_data, all_episode_info, manipulation=1, eval=False, task=29, room=0)\n",
    "\n",
    "eval_episodes = filter_episodes(all_episode_data, all_episode_info, manipulation=1, eval=True, stage=\"'not obvious' shortcut\", room=0)\n",
    "len(train_episodes), len(eval_episodes)"
   ]
  },
  {
   "cell_type": "code",
   "execution_count": 23,
   "id": "db5bcca3-1369-44cf-9e1f-8d2c21d86d1b",
   "metadata": {},
   "outputs": [
    {
     "data": {
      "text/plain": [
       "(array([[0, 0, 0, 0, 1, 1, 1, 1, 0, 0, 1, 0, 0],\n",
       "        [0, 0, 0, 0, 1, 0, 0, 1, 0, 0, 1, 0, 0],\n",
       "        [0, 0, 0, 0, 1, 0, 0, 1, 0, 0, 1, 0, 0],\n",
       "        [0, 0, 0, 0, 1, 0, 0, 1, 0, 0, 1, 0, 0],\n",
       "        [1, 1, 1, 0, 1, 0, 0, 1, 1, 1, 1, 0, 0],\n",
       "        [1, 0, 1, 1, 1, 0, 0, 0, 0, 0, 0, 0, 0],\n",
       "        [1, 0, 0, 0, 0, 0, 0, 0, 0, 0, 0, 0, 0],\n",
       "        [1, 1, 1, 0, 0, 0, 0, 0, 0, 0, 0, 0, 0],\n",
       "        [0, 0, 1, 0, 0, 0, 0, 0, 0, 0, 0, 0, 0],\n",
       "        [0, 0, 1, 0, 0, 0, 0, 0, 0, 0, 0, 0, 0],\n",
       "        [0, 0, 0, 0, 0, 0, 0, 0, 0, 0, 0, 0, 0],\n",
       "        [0, 0, 0, 0, 0, 0, 0, 0, 0, 0, 0, 0, 0],\n",
       "        [0, 0, 0, 0, 0, 0, 0, 0, 0, 0, 0, 0, 0]]),\n",
       " '',\n",
       " array([[0, 0, 0, 0, 1, 1, 1, 1, 0, 0, 0, 0, 0],\n",
       "        [0, 0, 0, 0, 1, 0, 0, 1, 0, 0, 0, 0, 0],\n",
       "        [0, 0, 0, 0, 1, 0, 0, 1, 0, 0, 1, 1, 1],\n",
       "        [0, 0, 0, 0, 1, 0, 0, 1, 0, 0, 1, 0, 0],\n",
       "        [1, 1, 1, 0, 1, 0, 0, 1, 1, 1, 1, 0, 0],\n",
       "        [1, 0, 1, 1, 1, 0, 0, 0, 0, 0, 0, 0, 0],\n",
       "        [1, 0, 0, 0, 0, 0, 0, 0, 0, 0, 0, 0, 0],\n",
       "        [1, 1, 1, 0, 0, 0, 0, 0, 0, 0, 0, 0, 0],\n",
       "        [0, 0, 1, 0, 0, 0, 0, 0, 0, 0, 0, 0, 0],\n",
       "        [0, 0, 1, 0, 0, 0, 0, 0, 0, 0, 0, 0, 0],\n",
       "        [0, 0, 1, 0, 0, 0, 0, 0, 0, 0, 0, 0, 0],\n",
       "        [0, 1, 1, 0, 0, 0, 0, 0, 0, 0, 0, 0, 0],\n",
       "        [0, 0, 0, 0, 0, 0, 0, 0, 0, 0, 0, 0, 0]]))"
      ]
     },
     "execution_count": 23,
     "metadata": {},
     "output_type": "execute_result"
    }
   ],
   "source": [
    "# [13, 13]\n",
    "train_map = create_maps(train_episodes).sum(0)  # sum over all episodes\n",
    "eval_map = create_maps(eval_episodes).sum(0)\n",
    "\n",
    "train_map, \"\", eval_map"
   ]
  },
  {
   "cell_type": "code",
   "execution_count": 24,
   "id": "fd837774-fe5a-4c5c-ad5e-942f294c53dd",
   "metadata": {},
   "outputs": [
    {
     "data": {
      "text/plain": [
       "<matplotlib.image.AxesImage at 0x2c6c8e0b0>"
      ]
     },
     "execution_count": 24,
     "metadata": {},
     "output_type": "execute_result"
    },
    {
     "data": {
      "image/png": "[encoded data removed]",
      "text/plain": [
       "<Figure size 640x480 with 1 Axes>"
      ]
     },
     "metadata": {},
     "output_type": "display_data"
    }
   ],
   "source": [
    "# lets plot the image just to make sure we know what we're working with\n",
    "plt.imshow(render_episode(train_episodes[0].timesteps))"
   ]
  },
  {
   "cell_type": "code",
   "execution_count": 25,
   "id": "a64eb2a0-7baa-4f21-bfd8-c83f11c5a994",
   "metadata": {},
   "outputs": [
    {
     "data": {
      "text/plain": [
       "np.float64(0.9375)"
      ]
     },
     "execution_count": 25,
     "metadata": {},
     "output_type": "execute_result"
    }
   ],
   "source": [
    "# below is the path taken\n",
    "overlap = load_data.overlap(train_map, eval_map)\n",
    "overlap.mean()"
   ]
  },
  {
   "cell_type": "code",
   "execution_count": 26,
   "id": "75b74cea-8245-41a6-bed9-4c8b32b6c6e7",
   "metadata": {},
   "outputs": [
    {
     "data": {
      "text/plain": [
       "np.float64(0.5892857142857143)"
      ]
     },
     "execution_count": 26,
     "metadata": {},
     "output_type": "execute_result"
    }
   ],
   "source": [
    "# okay, now let look at the overlap when the map is different? using manipulation=2\n",
    "other_train_episodes = filter_episodes(all_episode_data, all_episode_info, manipulation=2)\n",
    "other_train_map = create_maps(other_train_episodes).sum(0)  # sum over all episodes\n",
    "\n",
    "overlap = load_data.overlap(other_train_map, eval_map)\n",
    "overlap.mean()"
   ]
  },
  {
   "cell_type": "code",
   "execution_count": null,
   "id": "8e06ca99-b383-4580-aa83-d7e41d87efb9",
   "metadata": {},
   "outputs": [],
   "source": []
  }
 ],
 "metadata": {
  "kernelspec": {
   "display_name": "Python 3 (ipykernel)",
   "language": "python",
   "name": "python3"
  },
  "language_info": {
   "codemirror_mode": {
    "name": "ipython",
    "version": 3
   },
   "file_extension": ".py",
   "mimetype": "text/x-python",
   "name": "python",
   "nbconvert_exporter": "python",
   "pygments_lexer": "ipython3",
   "version": "3.10.14"
  }
 },
 "nbformat": 4,
 "nbformat_minor": 5
}
