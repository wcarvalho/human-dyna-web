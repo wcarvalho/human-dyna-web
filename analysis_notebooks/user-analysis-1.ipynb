{
 "cells": [
  {
   "cell_type": "code",
   "execution_count": 1,
   "id": "e3e798c0-eb0c-4512-95e4-9f54068f9a8a",
   "metadata": {},
   "outputs": [],
   "source": [
    "%load_ext autoreload\n",
    "%autoreload 2"
   ]
  },
  {
   "cell_type": "code",
   "execution_count": 2,
   "id": "21a07b38-c10e-49a3-955d-1e68ad7cc6f7",
   "metadata": {},
   "outputs": [
    {
     "name": "stdout",
     "output_type": "stream",
     "text": [
      "at directory: /Users/wilka/git/research/human-dyna-web/analysis_notebooks\n",
      "changing to root directory\n",
      "at directory: /Users/wilka/git/research/human-dyna-web\n"
     ]
    }
   ],
   "source": [
    "import os\n",
    "import sys\n",
    "print(\"at directory:\", os.getcwd())\n",
    "print(\"changing to root directory\")\n",
    "os.chdir(\"../\")\n",
    "print(\"at directory:\", os.getcwd())"
   ]
  },
  {
   "cell_type": "code",
   "execution_count": 3,
   "id": "ffeb054f-cbbb-4cde-8c11-d8266f4a625f",
   "metadata": {},
   "outputs": [],
   "source": [
    "# import jax\n",
    "# import jax.numpy as jnp\n",
    "# import functools\n",
    "# from functools import partial\n",
    "# import pandas as pd\n",
    "# import numpy as np\n",
    "# from pprint import pprint\n",
    "# import glob\n",
    "# from glob import glob\n",
    "# import matplotlib.pyplot as plt\n",
    "# import polars as pl\n",
    "# from tqdm.notebook import tqdm\n",
    "\n",
    "# from projects.humansf import data_loading\n",
    "# from projects.humansf import housemaze_analysis\n",
    "# from projects.humansf import data_loading\n",
    "# from projects.humansf import housemaze_trainer\n",
    "# from projects.humansf import housemaze_experiments\n",
    "# from projects.humansf import networks\n",
    "# from housemaze.human_dyna import mazes\n",
    "\n",
    "# from housemaze import renderer\n",
    "# from housemaze import utils\n",
    "# from housemaze.human_dyna import multitask_env as maze\n",
    "# from jaxneurorl import launcher\n",
    "# from jaxneurorl.agents import value_based_basics as vbb\n",
    "\n",
    "\n",
    "# from projects.humansf import download_data"
   ]
  },
  {
   "cell_type": "code",
   "execution_count": 5,
   "id": "3d2ae99b-b8d9-4a91-ac11-40591bc6825c",
   "metadata": {},
   "outputs": [],
   "source": [
    "from analysis import data_loading\n",
    "from analysis.download_data import download_user_files\n",
    "\n",
    "bucket_name = \"human-dyna\"\n",
    "prefix = \"data/\"\n",
    "#pattern = \"data/data_user=*_name=r0-v2*debug=0.json\"\n",
    "human_data_pattern = \"data/data_user=*exp3*v2*debug=0.json\"\n",
    "destination_folder = \"/Users/wilka/git/research/results/human_dyna/user_data/exp3\"\n",
    "\n",
    "download_user_files(bucket_name, prefix, human_data_pattern, destination_folder)"
   ]
  },
  {
   "cell_type": "code",
   "execution_count": 6,
   "id": "5b27fd57-f845-401a-bc21-7d725c4612fc",
   "metadata": {},
   "outputs": [
    {
     "data": {
      "text/plain": [
       "23"
      ]
     },
     "execution_count": 6,
     "metadata": {},
     "output_type": "execute_result"
    }
   ],
   "source": [
    "from glob import glob\n",
    "data_dir = '/Users/wilka/git/research/results/human_dyna/'\n",
    "files = f'{data_dir}/user_data/*exp3*/*exp3*v3*.json'\n",
    "user_base_path = f'{data_dir}/user_data'\n",
    "files = list(set(glob(files)))\n",
    "len(files)"
   ]
  },
  {
   "cell_type": "code",
   "execution_count": 8,
   "id": "8afda695-6e57-4454-a149-e5bfc9a09e89",
   "metadata": {},
   "outputs": [
    {
     "name": "stdout",
     "output_type": "stream",
     "text": [
      "-------------------------\n",
      "0 data_user=834657846_name=exp3-v3-r1-t0_exp=3_debug=0.json\n",
      "\n",
      "\n",
      "bonus: 0\n",
      "feedback:\n",
      "{'feedback': 'no i  used different path',\n",
      " 'question': 'You used the same path as in Phase 1. Please briefly describe '\n",
      "             'why.'}\n",
      "-------------------------\n",
      "1 data_user=871286831_name=exp3-v3-r1-t0_exp=3_debug=0.json\n",
      "\n",
      "none\n",
      "bonus: 3\n",
      "feedback:\n",
      "{'feedback': 'I was familiar with that path, it seems the quickest path after '\n",
      "             'a brief glance at the rest of the maze',\n",
      " 'question': 'You used the same path as in Phase 1. Please briefly describe '\n",
      "             'why.'}\n",
      "-------------------------\n",
      "2 data_user=3779690101_name=exp3-v3-r1-t0_exp=3_debug=0.json\n",
      "\n",
      "Well done. Interesting and enjoyable.\n",
      "bonus: 3\n",
      "feedback:\n",
      "-------------------------\n",
      "3 data_user=2861450138_name=exp3-v3-r0-t30_exp=3_debug=0.json\n",
      "\n",
      "There was some lagging with the arrow keys, other than that fine\n",
      "bonus: 3\n",
      "feedback:\n",
      "{'feedback': \"I didn't notice this. I was focused on the time limit and I just \"\n",
      "             'gauged the quickest route by sight.',\n",
      " 'question': 'You used the same path as in Phase 1. Please briefly describe '\n",
      "             'why.'}\n",
      "-------------------------\n",
      "4 data_user=3372735581_name=exp3-v3-r0-t30_exp=3_debug=0.json\n",
      "\n",
      "It does not properly recognize browser fullscreen, only when I hit \"toggle fullscreen\" in the experiment did it actually recognize it, which was confusing and caused me to me mess up and time out on one of the tasks.\n",
      "bonus: 3\n",
      "feedback:\n",
      "{'feedback': 'I tried to use the most efficient route. So if I changed the '\n",
      "             \"path it was because of that, or I didn't notice I was being \"\n",
      "             'inefficient.',\n",
      " 'question': 'You used a different path as in Phase 1. Please briefly describe '\n",
      "             'why. For example, did you re-plan how to get the object?'}\n",
      "-------------------------\n",
      "5 data_user=1871444059_name=exp3-v3-r0-t30_exp=3_debug=0.json\n",
      "\n",
      "\n",
      "bonus: 3\n",
      "feedback:\n",
      "{'feedback': \"I didn't notice this.\",\n",
      " 'question': 'You used the same path as in Phase 1. Please briefly describe '\n",
      "             'why.'}\n",
      "-------------------------\n",
      "6 data_user=2675362775_name=exp3-v3-r1-t0_exp=3_debug=0.json\n",
      "\n",
      "\n",
      "bonus: 0\n",
      "feedback:\n",
      "{'feedback': 'It was just the quickest path I noticed and I was under a timer '\n",
      "             \"so it's better to start moving towards the goal than to waste \"\n",
      "             'time trying to find a better path',\n",
      " 'question': 'You used the same path as in Phase 1. Please briefly describe '\n",
      "             'why.'}\n",
      "-------------------------\n",
      "7 data_user=3018448105_name=exp3-v3-r1-t0_exp=3_debug=0.json\n",
      "\n",
      "well\n",
      "bonus: 0\n",
      "feedback:\n",
      "-------------------------\n",
      "9 data_user=1710663941_name=exp3-v3-r0-t30_exp=3_debug=0.json\n",
      "\n",
      "I did not have any issues.\n",
      "bonus: 3\n",
      "feedback:\n",
      "{'feedback': 'Yes I noticed that, and I used the same patch because at the '\n",
      "             'time it just seemed easier to do so, as I was quickly heading in '\n",
      "             'that route anyways.',\n",
      " 'question': 'You used the same path as in Phase 1. Please briefly describe '\n",
      "             'why.'}\n",
      "-------------------------\n",
      "11 data_user=1877894318_name=exp3-v3-r0-t30_exp=3_debug=0.json\n",
      "\n",
      "it worked fine\n",
      "bonus: 0\n",
      "feedback:\n",
      "-------------------------\n",
      "12 data_user=2122419407_name=exp3-v3-r0-t30_exp=3_debug=0.json\n",
      "\n",
      "n/a\n",
      "bonus: 3\n",
      "feedback:\n",
      "{'feedback': 'Because I could go through the maze more faster than the other '\n",
      "             'paths',\n",
      " 'question': 'You used the same path as in Phase 1. Please briefly describe '\n",
      "             'why.'}\n",
      "-------------------------\n",
      "13 data_user=2074672944_name=exp3-v3-r0-t30_exp=3_debug=0.json\n",
      "\n",
      "I don't think anything went wrong. The experiment seemed fine. The only suggestion I have would be larger object icons.\n",
      "bonus: 3\n",
      "feedback:\n",
      "{'feedback': 'I was too nervous and rushing with the time constraint.',\n",
      " 'question': 'You used the same path as in Phase 1. Please briefly describe '\n",
      "             'why.'}\n",
      "-------------------------\n",
      "14 data_user=551112125_name=exp3-v3-r0-t30_exp=3_debug=0.json\n",
      "\n",
      "well accepted\n",
      "bonus: 0\n",
      "feedback:\n",
      "{'feedback': 'very',\n",
      " 'question': 'You used the same path as in Phase 1. Please briefly describe '\n",
      "             'why.'}\n",
      "-------------------------\n",
      "15 data_user=888509941_name=exp3-v3-r0-t30_exp=3_debug=0.json\n",
      "\n",
      "Nothing went wrong for me so I don't really have any suggestions.\n",
      "bonus: 3\n",
      "feedback:\n",
      "{'feedback': 'I used it because it looked like the fastest way to the object.',\n",
      " 'question': 'You used the same path as in Phase 1. Please briefly describe '\n",
      "             'why.'}\n",
      "-------------------------\n",
      "16 data_user=3226840500_name=exp3-v3-r1-t0_exp=3_debug=0.json\n",
      "\n",
      "The very last question before this one just skipped before giving me a chance to respond.\n",
      "bonus: 0\n",
      "feedback:\n",
      "-------------------------\n",
      "18 data_user=1031568544_name=exp3-v3-r1-t0_exp=3_debug=0.json\n",
      "\n",
      "\n",
      "bonus: 0\n",
      "feedback:\n",
      "{'feedback': 'I noticed that there was a route heading up that would probably '\n",
      "             \"take me there, but I didn't take the time to actually look in \"\n",
      "             'detail because I figured I might run out of time or it would be '\n",
      "             'roughly the same speed as my regular route.',\n",
      " 'question': 'You used the same path as in Phase 1. Please briefly describe '\n",
      "             'why.'}\n",
      "-------------------------\n",
      "19 data_user=3608732212_name=exp3-v3-r1-t0_exp=3_debug=0.json\n",
      "\n",
      "I enjoyed the experiment.  I have always enjoyed mazes so it was a lot of fun.\n",
      "bonus: 3\n",
      "feedback:\n",
      "{'feedback': \"I went with the instinctive path that I saw and didn't want to \"\n",
      "             'lose any more valuable time by looking for other paths.',\n",
      " 'question': 'You used the same path as in Phase 1. Please briefly describe '\n",
      "             'why.'}\n",
      "-------------------------\n",
      "21 data_user=1634437477_name=exp3-v3-r1-t0_exp=3_debug=0.json\n",
      "\n",
      "I thought this was interesting and it would have been even more difficult if there were blocks in the path.\n",
      "bonus: 3\n",
      "feedback:\n",
      "{'feedback': 'I became accustomed to the path and did not want to avert from '\n",
      "             'it. ',\n",
      " 'question': 'You used the same path as in Phase 1. Please briefly describe '\n",
      "             'why.'}\n",
      "-------------------------\n",
      "22 data_user=1157239186_name=exp3-v3-r1-t0_exp=3_debug=0.json\n",
      "\n",
      "No comments. Everything was fine.\n",
      "bonus: 0\n",
      "feedback:\n",
      "{'feedback': 'I kept things simple and stuck to what I knew.',\n",
      " 'question': 'You used the same path as in Phase 1. Please briefly describe '\n",
      "             'why.'}\n"
     ]
    }
   ],
   "source": [
    "from pprint import pprint\n",
    "import json\n",
    "nfinished = 0\n",
    "for idx, file in enumerate(files):\n",
    "    with open(file, 'r') as f:\n",
    "        try:\n",
    "            data = json.load(f)\n",
    "        except Exception as e:\n",
    "            print('-'*25)\n",
    "            print(idx, os.path.basename(file))\n",
    "            print(e)\n",
    "            continue\n",
    "        finished = data[-1].get(\"finished\", False)\n",
    "        if finished:\n",
    "            print\n",
    "            nfinished += 1\n",
    "            print('-'*25)\n",
    "            print(idx, os.path.basename(file))\n",
    "            print(\"\\n\" + data[-1]['feedback'] or \"N/A\")\n",
    "            print('bonus:', data[-1]['bonus'])\n",
    "            print('feedback:')\n",
    "            if 'feedback' in data[-2]['data']:\n",
    "                pprint(data[-2]['data'])\n",
    "\n",
    "        # else:\n",
    "        #     print(\"NOT FINISHED\")"
   ]
  },
  {
   "cell_type": "code",
   "execution_count": 18,
   "id": "4d1fef43-8bbb-4bf6-88e2-5905ce11d091",
   "metadata": {},
   "outputs": [
    {
     "name": "stdout",
     "output_type": "stream",
     "text": [
      "{'bonus': 3,\n",
      " 'feedback': 'It felt quite unresponsive for some reason.  Perhaps that was '\n",
      "             \"intentional for your purposes, but just in case it wasn't, it \"\n",
      "             'was sort of like playing a video game with extremely high '\n",
      "             'latency.  In general I was using a lot more inputs than should '\n",
      "             'have been necessary and just kind of bashing on the keys the '\n",
      "             'amount that felt right to get to where I needed to go.\\n'\n",
      "             '\\n'\n",
      "             \"It did seem like some of the times I reached the goal it didn't \"\n",
      "             \"count properly for some reason too, though I'm not sure if that \"\n",
      "             'was due to something not counting correctly or if I simply '\n",
      "             \"wasn't where I assumed I was due to the unresponsiveness.\",\n",
      " 'finished': True}\n",
      "{'data': {'feedback': \"Once I found a reasonable seeming path I didn't even \"\n",
      "                      \"really consider looking for others.  It didn't seem \"\n",
      "                      'like there would be any substantially better path so it '\n",
      "                      \"didn't feel like it was worth the time to check if \"\n",
      "                      'there were other routes that worked.',\n",
      "          'noticed_path': 3},\n",
      " 'id': 9091,\n",
      " 'metadata': {'block_metadata': {'desc': 'feedback', 'idx': 6}},\n",
      " 'name': 'maze3_feedback',\n",
      " 'session_id': 'c672799a-328c-4995-9fda-598623933865',\n",
      " 'stage_idx': 24,\n",
      " 'user_data': {'age': 33, 'sex': 'Male', 'user_id': 1678765622}}\n"
     ]
    }
   ],
   "source": [
    "from pprint import pprint\n",
    "pprint(data[-1])\n",
    "pprint(data[-2])"
   ]
  },
  {
   "cell_type": "code",
   "execution_count": 24,
   "id": "ff0a49a4-e4d0-4bfc-b374-25e33ebc4a20",
   "metadata": {},
   "outputs": [
    {
     "data": {
      "text/plain": [
       "{'id': 3271,\n",
       " 'session_id': '204ada23-39ff-4cb7-a919-29887ccabea6',\n",
       " 'name': 'big_m4_maze_short_eval_diff',\n",
       " 'stage_idx': 23,\n",
       " 'data': {'image_seen_time': '2024-10-12T18:27:07.646Z',\n",
       "  'action_taken_time': '2024-10-12T18:27:07.646Z',\n",
       "  'computer_interaction': 'timer',\n",
       "  'action_name': 'timer',\n",
       "  'action_idx': -1,\n",
       "  'timelimit': 5,\n",
       "  'timestep': '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'},\n",
       " 'user_data': {'user_id': 4197296808, 'age': 34, 'sex': 'Male'},\n",
       " 'metadata': {'maze': 'big_m4_maze_short_eval_diff',\n",
       "  'condition': 2,\n",
       "  'eval': True,\n",
       "  'block_metadata': {'manipulation': 4,\n",
       "   'desc': 'See if faster off train path than planning (short)',\n",
       "   'long': '\\n        Here there are two branches from a training path. We predict that people will have a shorter response time when an object is in the same location it was in phase 1.\\n        ',\n",
       "   'groups': [[13, 3], [43, 29]],\n",
       "   'char2idx': {'A': 13, 'B': 3, 'C': 43, 'D': 29},\n",
       "   'idx': 4},\n",
       "  'nsteps': 3,\n",
       "  'episode_idx': 1,\n",
       "  'nsuccesses': 0}}"
      ]
     },
     "execution_count": 24,
     "metadata": {},
     "output_type": "execute_result"
    }
   ],
   "source": [
    "data[-3]"
   ]
  },
  {
   "cell_type": "code",
   "execution_count": 59,
   "id": "85851e0c-115a-4131-bbe6-155d32c9e95e",
   "metadata": {},
   "outputs": [
    {
     "data": {
      "application/vnd.jupyter.widget-view+json": {
       "model_id": "512cfeefa8bb4e2986a6130cf09059b3",
       "version_major": 2,
       "version_minor": 0
      },
      "text/plain": [
       "Processing files:   0%|          | 0/2 [00:00<?, ?it/s]"
      ]
     },
     "metadata": {},
     "output_type": "display_data"
    },
    {
     "name": "stdout",
     "output_type": "stream",
     "text": [
      "Filtered 46 data point\n"
     ]
    },
    {
     "data": {
      "application/vnd.jupyter.widget-view+json": {
       "model_id": "89a8d36979c24888b9e60b48845b0216",
       "version_major": 2,
       "version_minor": 0
      },
      "text/plain": [
       "Processing episodes:   0%|          | 0/51 [00:00<?, ?it/s]"
      ]
     },
     "metadata": {},
     "output_type": "display_data"
    },
    {
     "name": "stdout",
     "output_type": "stream",
     "text": [
      "Filtered 65 data point\n"
     ]
    },
    {
     "data": {
      "application/vnd.jupyter.widget-view+json": {
       "model_id": "e7360e72f4c5436f8fa5ea614dd76474",
       "version_major": 2,
       "version_minor": 0
      },
      "text/plain": [
       "Processing episodes:   0%|          | 0/49 [00:00<?, ?it/s]"
      ]
     },
     "metadata": {},
     "output_type": "display_data"
    }
   ],
   "source": [
    "user_df, user_data = data_loading.make_all_episode_data(\n",
    "    files=files,\n",
    "    example_timestep=example_timestep,\n",
    "    base_path=user_base_path,\n",
    "    overwrite=True,\n",
    ")"
   ]
  },
  {
   "cell_type": "code",
   "execution_count": null,
   "id": "1c8b075c-cb9d-4631-a2e1-048589c38045",
   "metadata": {},
   "outputs": [],
   "source": []
  }
 ],
 "metadata": {
  "kernelspec": {
   "display_name": "Python 3 (ipykernel)",
   "language": "python",
   "name": "python3"
  },
  "language_info": {
   "codemirror_mode": {
    "name": "ipython",
    "version": 3
   },
   "file_extension": ".py",
   "mimetype": "text/x-python",
   "name": "python",
   "nbconvert_exporter": "python",
   "pygments_lexer": "ipython3",
   "version": "3.10.15"
  }
 },
 "nbformat": 4,
 "nbformat_minor": 5
}
