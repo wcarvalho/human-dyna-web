{
 "cells": [
  {
   "cell_type": "code",
   "execution_count": 2,
   "id": "e3e798c0-eb0c-4512-95e4-9f54068f9a8a",
   "metadata": {},
   "outputs": [],
   "source": [
    "%load_ext autoreload\n",
    "%autoreload 2"
   ]
  },
  {
   "cell_type": "code",
   "execution_count": 3,
   "id": "21a07b38-c10e-49a3-955d-1e68ad7cc6f7",
   "metadata": {},
   "outputs": [
    {
     "name": "stdout",
     "output_type": "stream",
     "text": [
      "at directory: /Users/wilka/git/research/jaxneurorl/projects/humansf/analysis\n",
      "changing to root directory\n",
      "at directory: /Users/wilka/git/research/jaxneurorl\n"
     ]
    }
   ],
   "source": [
    "import os\n",
    "import sys\n",
    "print(\"at directory:\", os.getcwd())\n",
    "print(\"changing to root directory\")\n",
    "os.chdir(\"../../..\")\n",
    "print(\"at directory:\", os.getcwd())"
   ]
  },
  {
   "cell_type": "code",
   "execution_count": 4,
   "id": "ffeb054f-cbbb-4cde-8c11-d8266f4a625f",
   "metadata": {},
   "outputs": [
    {
     "name": "stdout",
     "output_type": "stream",
     "text": [
      "No file specified for image dict.\n",
      "Using: /Users/wilka/git/research/jaxneurorl/libraries/housemaze/housemaze/image_data.pkl\n"
     ]
    },
    {
     "name": "stderr",
     "output_type": "stream",
     "text": [
      "\u001b[34m\u001b[1mwandb\u001b[0m: \u001b[33mWARNING\u001b[0m `wandb.require('core')` is redundant as it is now the default behavior.\n"
     ]
    },
    {
     "name": "stdout",
     "output_type": "stream",
     "text": [
      "No file specified for image dict.\n",
      "Using: /Users/wilka/git/research/jaxneurorl/libraries/housemaze/housemaze/image_data.pkl\n",
      "No file specified for groups.\n",
      "Using: /Users/wilka/git/research/jaxneurorl/libraries/housemaze/housemaze/human_dyna/list_of_groups.npy\n"
     ]
    },
    {
     "name": "stderr",
     "output_type": "stream",
     "text": [
      "/Users/wilka/miniforge3/envs/jaxneurorl/lib/python3.10/site-packages/jax/_src/numpy/array_methods.py:118: UserWarning: Explicitly requested dtype <class 'jax.numpy.float64'> requested in astype is not available, and will be truncated to dtype float32. To enable more dtypes, set the jax_enable_x64 configuration option or the JAX_ENABLE_X64 shell environment variable. See https://github.com/jax-ml/jax#current-gotchas for more.\n",
      "  return lax_numpy.astype(self, dtype, copy=copy, device=device)\n"
     ]
    }
   ],
   "source": [
    "import jax\n",
    "import jax.numpy as jnp\n",
    "import functools\n",
    "from functools import partial\n",
    "import pandas as pd\n",
    "import numpy as np\n",
    "from pprint import pprint\n",
    "import glob\n",
    "from glob import glob\n",
    "import matplotlib.pyplot as plt\n",
    "import polars as pl\n",
    "from tqdm.notebook import tqdm\n",
    "\n",
    "from projects.humansf import data_loading\n",
    "from projects.humansf import housemaze_analysis\n",
    "from projects.humansf import data_loading\n",
    "from projects.humansf import housemaze_trainer\n",
    "from projects.humansf import housemaze_experiments\n",
    "from projects.humansf import networks\n",
    "from housemaze.human_dyna import mazes\n",
    "\n",
    "from housemaze import renderer\n",
    "from housemaze import utils\n",
    "from housemaze.human_dyna import multitask_env as maze\n",
    "from jaxneurorl import launcher\n",
    "from jaxneurorl.agents import value_based_basics as vbb\n",
    "\n",
    "\n",
    "from projects.humansf import download_data"
   ]
  },
  {
   "cell_type": "code",
   "execution_count": 5,
   "id": "9bb44544-669b-40f9-b9a0-a039e3fc13cd",
   "metadata": {},
   "outputs": [],
   "source": [
    "# !ls -lhtr ~/git/research/results/human_dyna/user_data/*"
   ]
  },
  {
   "cell_type": "code",
   "execution_count": 6,
   "id": "18cccf39-c91c-4238-9023-551fe591f75a",
   "metadata": {},
   "outputs": [],
   "source": [
    "# !rm ~/git/research/results/human_dyna/user_data/*3714894224_name* ~/git/research/results/human_dyna/user_data/*2631242498_name*"
   ]
  },
  {
   "cell_type": "code",
   "execution_count": 9,
   "id": "3d2ae99b-b8d9-4a91-ac11-40591bc6825c",
   "metadata": {},
   "outputs": [
    {
     "name": "stdout",
     "output_type": "stream",
     "text": [
      "Downloaded: data/data_user=1004981584_name=exp_exp=3_debug=0.json to /Users/wilka/git/research/results/human_dyna/user_data/exp3/data_user=1004981584_name=exp_exp=3_debug=0.json\n",
      "Downloaded: data/data_user=1300029984_name=exp_exp=3_debug=0.json to /Users/wilka/git/research/results/human_dyna/user_data/exp3/data_user=1300029984_name=exp_exp=3_debug=0.json\n",
      "Downloaded: data/data_user=1397338607_name=exp_exp=3_debug=0.json to /Users/wilka/git/research/results/human_dyna/user_data/exp3/data_user=1397338607_name=exp_exp=3_debug=0.json\n",
      "Downloaded: data/data_user=1648586841_name=exp_exp=3_debug=0.json to /Users/wilka/git/research/results/human_dyna/user_data/exp3/data_user=1648586841_name=exp_exp=3_debug=0.json\n",
      "Downloaded: data/data_user=1678765622_name=exp_exp=3_debug=0.json to /Users/wilka/git/research/results/human_dyna/user_data/exp3/data_user=1678765622_name=exp_exp=3_debug=0.json\n",
      "Downloaded: data/data_user=1920467653_name=exp_exp=3_debug=0.json to /Users/wilka/git/research/results/human_dyna/user_data/exp3/data_user=1920467653_name=exp_exp=3_debug=0.json\n",
      "Downloaded: data/data_user=1948761654_name=exp_exp=3_debug=0.json to /Users/wilka/git/research/results/human_dyna/user_data/exp3/data_user=1948761654_name=exp_exp=3_debug=0.json\n",
      "Downloaded: data/data_user=2030323034_name=exp_exp=3_debug=0.json to /Users/wilka/git/research/results/human_dyna/user_data/exp3/data_user=2030323034_name=exp_exp=3_debug=0.json\n",
      "Downloaded: data/data_user=2079109864_name=exp_exp=3_debug=0.json to /Users/wilka/git/research/results/human_dyna/user_data/exp3/data_user=2079109864_name=exp_exp=3_debug=0.json\n",
      "Downloaded: data/data_user=2102797549_name=exp_exp=3_debug=0.json to /Users/wilka/git/research/results/human_dyna/user_data/exp3/data_user=2102797549_name=exp_exp=3_debug=0.json\n",
      "Downloaded: data/data_user=2196511528_name=exp_exp=3_debug=0.json to /Users/wilka/git/research/results/human_dyna/user_data/exp3/data_user=2196511528_name=exp_exp=3_debug=0.json\n",
      "Downloaded: data/data_user=2254025991_name=exp3-v1_exp=3_debug=0.json to /Users/wilka/git/research/results/human_dyna/user_data/exp3/data_user=2254025991_name=exp3-v1_exp=3_debug=0.json\n",
      "Downloaded: data/data_user=2924513929_name=exp_exp=3_debug=0.json to /Users/wilka/git/research/results/human_dyna/user_data/exp3/data_user=2924513929_name=exp_exp=3_debug=0.json\n",
      "Downloaded: data/data_user=3266212700_name=exp_exp=3_debug=0.json to /Users/wilka/git/research/results/human_dyna/user_data/exp3/data_user=3266212700_name=exp_exp=3_debug=0.json\n",
      "Downloaded: data/data_user=3333226705_name=exp_exp=3_debug=0.json to /Users/wilka/git/research/results/human_dyna/user_data/exp3/data_user=3333226705_name=exp_exp=3_debug=0.json\n",
      "Downloaded: data/data_user=3340716435_name=exp_exp=3_debug=0.json to /Users/wilka/git/research/results/human_dyna/user_data/exp3/data_user=3340716435_name=exp_exp=3_debug=0.json\n",
      "Downloaded: data/data_user=347157497_name=exp_exp=3_debug=0.json to /Users/wilka/git/research/results/human_dyna/user_data/exp3/data_user=347157497_name=exp_exp=3_debug=0.json\n",
      "Downloaded: data/data_user=3975057357_name=exp_exp=3_debug=0.json to /Users/wilka/git/research/results/human_dyna/user_data/exp3/data_user=3975057357_name=exp_exp=3_debug=0.json\n",
      "Downloaded: data/data_user=4017909404_name=exp_exp=3_debug=0.json to /Users/wilka/git/research/results/human_dyna/user_data/exp3/data_user=4017909404_name=exp_exp=3_debug=0.json\n",
      "Downloaded: data/data_user=403414056_name=exp_exp=3_debug=0.json to /Users/wilka/git/research/results/human_dyna/user_data/exp3/data_user=403414056_name=exp_exp=3_debug=0.json\n",
      "Downloaded: data/data_user=4197296808_name=exp_exp=3_debug=0.json to /Users/wilka/git/research/results/human_dyna/user_data/exp3/data_user=4197296808_name=exp_exp=3_debug=0.json\n",
      "Downloaded: data/data_user=4267537342_name=exp_exp=3_debug=0.json to /Users/wilka/git/research/results/human_dyna/user_data/exp3/data_user=4267537342_name=exp_exp=3_debug=0.json\n",
      "Downloaded: data/data_user=471265413_name=exp_exp=3_debug=0.json to /Users/wilka/git/research/results/human_dyna/user_data/exp3/data_user=471265413_name=exp_exp=3_debug=0.json\n",
      "Downloaded: data/data_user=472713048_name=exp_exp=3_debug=0.json to /Users/wilka/git/research/results/human_dyna/user_data/exp3/data_user=472713048_name=exp_exp=3_debug=0.json\n",
      "Downloaded: data/data_user=727340831_name=exp_exp=3_debug=0.json to /Users/wilka/git/research/results/human_dyna/user_data/exp3/data_user=727340831_name=exp_exp=3_debug=0.json\n",
      "Downloaded: data/data_user=886547849_name=exp_exp=3_debug=0.json to /Users/wilka/git/research/results/human_dyna/user_data/exp3/data_user=886547849_name=exp_exp=3_debug=0.json\n"
     ]
    }
   ],
   "source": [
    "from projects.humansf.download_data import download_user_files\n",
    "\n",
    "bucket_name = \"human-dyna\"\n",
    "prefix = \"data/\"\n",
    "#pattern = \"data/data_user=*_name=r0-v2*debug=0.json\"\n",
    "human_data_pattern = \"data/data_user=*exp=3*debug=0.json\"\n",
    "destination_folder = \"/Users/wilka/git/research/results/human_dyna/user_data/exp3\"\n",
    "\n",
    "download_user_files(bucket_name, prefix, human_data_pattern, destination_folder)"
   ]
  },
  {
   "cell_type": "code",
   "execution_count": 22,
   "id": "5b27fd57-f845-401a-bc21-7d725c4612fc",
   "metadata": {},
   "outputs": [
    {
     "data": {
      "text/plain": [
       "26"
      ]
     },
     "execution_count": 22,
     "metadata": {},
     "output_type": "execute_result"
    }
   ],
   "source": [
    "data_dir = '/Users/wilka/git/research/results/human_dyna/'\n",
    "files = f'{data_dir}/user_data/*exp3*/*exp=3*.json'\n",
    "user_base_path = f'{data_dir}/user_data'\n",
    "files = list(set(glob(files)))\n",
    "len(files)"
   ]
  },
  {
   "cell_type": "code",
   "execution_count": 23,
   "id": "8afda695-6e57-4454-a149-e5bfc9a09e89",
   "metadata": {},
   "outputs": [
    {
     "name": "stdout",
     "output_type": "stream",
     "text": [
      "-------------------------\n",
      "0 data_user=3333226705_name=exp_exp=3_debug=0.json\n",
      "\n",
      "There was a slight confusion on my part when both the continue and start buttons appeared on the screen near the end of the last part. I clicked on the continue button but nothing seem to happen and then I clicked on the start button which took me to the screen to find the object in the maze.\n",
      "bonus: 3\n",
      "feedback:\n",
      "{'feedback': 'I thought the path I took was the fastest and I quickly decided '\n",
      "             'on it.',\n",
      " 'noticed_path': 3}\n",
      "-------------------------\n",
      "1 data_user=472713048_name=exp_exp=3_debug=0.json\n",
      "\n",
      "This was too tedious. Too many phases. Make it shorter. \n",
      "bonus: 3\n",
      "feedback:\n",
      "{'feedback': 'I felt like going the long way around. I also did that once for '\n",
      "             'the knife, but then had to turn around. I was getting bored and '\n",
      "             'wanted to switch things up.',\n",
      " 'noticed_path': 3}\n",
      "-------------------------\n",
      "2 data_user=2030323034_name=exp_exp=3_debug=0.json\n",
      "\n",
      "Great\n",
      "bonus: 3\n",
      "feedback:\n",
      "{'feedback': '', 'noticed_path': 3}\n",
      "-------------------------\n",
      "3 data_user=886547849_name=exp_exp=3_debug=0.json\n",
      "\n",
      "I hope you'll accept my code through email! This was accepted automatically by an extension that I use and I wasn't aware it was in my queue until there were only 15 minutes left on the clock.\n",
      "bonus: 3\n",
      "feedback:\n",
      "{'feedback': 'Was that where I headed one way but saw that would make me grab '\n",
      "             'the orange instead of the knife. I had to stop and check the '\n",
      "             'maze for a different path.',\n",
      " 'noticed_path': 3}\n",
      "-------------------------\n",
      "4 data_user=1678765622_name=exp_exp=3_debug=0.json\n",
      "\n",
      "It felt quite unresponsive for some reason.  Perhaps that was intentional for your purposes, but just in case it wasn't, it was sort of like playing a video game with extremely high latency.  In general I was using a lot more inputs than should have been necessary and just kind of bashing on the keys the amount that felt right to get to where I needed to go.\n",
      "\n",
      "It did seem like some of the times I reached the goal it didn't count properly for some reason too, though I'm not sure if that was due to something not counting correctly or if I simply wasn't where I assumed I was due to the unresponsiveness.\n",
      "bonus: 3\n",
      "feedback:\n",
      "{'feedback': \"Once I found a reasonable seeming path I didn't even really \"\n",
      "             \"consider looking for others.  It didn't seem like there would be \"\n",
      "             \"any substantially better path so it didn't feel like it was \"\n",
      "             'worth the time to check if there were other routes that worked.',\n",
      " 'noticed_path': 3}\n",
      "-------------------------\n",
      "5 data_user=1648586841_name=exp_exp=3_debug=0.json\n",
      "\n",
      "It all ran but occasionally the arrow would jump or stop.\n",
      "bonus: 3\n",
      "feedback:\n",
      "{'feedback': 'I focused only on the goal for that round.', 'noticed_path': 3}\n",
      "-------------------------\n",
      "6 data_user=403414056_name=exp_exp=3_debug=0.json\n",
      "\n",
      "Everything was simple and worked great on my end, aside from some very small lagging.\n",
      "bonus: 3\n",
      "feedback:\n",
      "{'feedback': 'I was just already familiar with that path, so it seemed like '\n",
      "             \"the easiest way to get there in the fewest steps.  I didn't \"\n",
      "             'think it was worth exploring other path options at that point.',\n",
      " 'noticed_path': 3}\n",
      "-------------------------\n",
      "7 data_user=3266212700_name=exp_exp=3_debug=0.json\n",
      "\n",
      "This survey was very interesting.\n",
      "bonus: 3\n",
      "feedback:\n",
      "{'feedback': '', 'noticed_path': 3}\n",
      "-------------------------\n",
      "8 data_user=4267537342_name=exp_exp=3_debug=0.json\n",
      "\n",
      "This experiment was pretty fun.  There was a little bit of lag, but otherwise it was good.\n",
      "bonus: 3\n",
      "feedback:\n",
      "{'feedback': 'This was a planned decision based on my starting position.  I '\n",
      "             'had noticed the two different paths to the potato previously, so '\n",
      "             'my decision was simply based on which of the two paths was '\n",
      "             'quickest from my starting point.',\n",
      " 'noticed_path': 3}\n",
      "-------------------------\n",
      "9 data_user=2924513929_name=exp_exp=3_debug=0.json\n",
      "\n",
      "Fun experience\n",
      "bonus: 3\n",
      "feedback:\n",
      "{'feedback': 'Creature of habit', 'noticed_path': 3}\n",
      "-------------------------\n",
      "10 data_user=4017909404_name=exp_exp=3_debug=0.json\n",
      "\n",
      "It was a fun experiment. I noticed some lag or jumpiness, where my cursor was taken a click over from where I moved it. Unsure whether this was intentional, or my fault (\"driver error\").\n",
      "bonus: 0\n",
      "feedback:\n",
      "{'feedback': 'Yes. Under time pressure I wanted to limit study of the maze for '\n",
      "             'alternative, shorter, routes. A quick scan seemed to indicate '\n",
      "             'that it would be quickest to navigate towards the familiar path.',\n",
      " 'noticed_path': 3}\n",
      "-------------------------\n",
      "11 data_user=2079109864_name=exp_exp=3_debug=0.json\n",
      "\n",
      "\n",
      "bonus: 3\n",
      "feedback:\n",
      "{'feedback': 'I was familiar with the path, so I thought it would be faster to '\n",
      "             'navigate.',\n",
      " 'noticed_path': 3}\n",
      "-------------------------\n",
      "12 data_user=3975057357_name=exp_exp=3_debug=0.json\n",
      "\n",
      "fun experiment, there was some input lag, but that could have been the internet.\n",
      "bonus: 3\n",
      "feedback:\n",
      "{'feedback': 'it just seemed faster at first glance.', 'noticed_path': 3}\n",
      "-------------------------\n",
      "13 data_user=1004981584_name=exp_exp=3_debug=0.json\n",
      "\n",
      "Everything seemed to run well, except for when I retrieved the goal object it said success then let the timer run out and it said timer ran out even though I collected the goal object.  There may have been a delay at times because I saw my arrow be slower than I was pressing or it would skip to far ahead.\n",
      "bonus: 3\n",
      "feedback:\n",
      "{'feedback': 'I thought if I collected the potato instead of the goal object '\n",
      "             'that I would be wrong so I went the path I knew to the spoon '\n",
      "             'that would not run into any other objects.  I also felt familiar '\n",
      "             'with the path I used in Phase 1.',\n",
      " 'noticed_path': 3}\n",
      "-------------------------\n",
      "14 data_user=1948761654_name=exp_exp=3_debug=0.json\n",
      "\n",
      "No feedback\n",
      "bonus: 3\n",
      "feedback:\n",
      "{'feedback': 'I knew how to get there already so I knew I could do it in the '\n",
      "             'allotted time.',\n",
      " 'noticed_path': 3}\n",
      "-------------------------\n",
      "17 data_user=471265413_name=exp_exp=3_debug=0.json\n",
      "\n",
      "Choose something that doesn't blend in, unless that's what you were actually going for, then please ignore.\n",
      "bonus: 3\n",
      "feedback:\n",
      "{'feedback': 'Honestly, I had a hard time spotting the spoon at first, so I '\n",
      "             'started moving before I was sure where to go.',\n",
      " 'noticed_path': 3}\n",
      "-------------------------\n",
      "18 data_user=727340831_name=exp_exp=3_debug=0.json\n",
      "\n",
      "No issues at all. \n",
      "bonus: 3\n",
      "feedback:\n",
      "{'feedback': '', 'noticed_path': 3}\n",
      "-------------------------\n",
      "20 data_user=2196511528_name=exp_exp=3_debug=0.json\n",
      "\n",
      "this was awesome thank you!\n",
      "bonus: 3\n",
      "feedback:\n",
      "{'feedback': 'I was familiar with the route. Figured it was quicker this '\n",
      "             \"way... but maybe I'm not understanding the question, I noticed \"\n",
      "             'the route that I was taking because I took the path towards the '\n",
      "             \"spoon side. However, if you're referring to the path to the left \"\n",
      "             'of the Orange yes but it would have taken too long to try to '\n",
      "             'control the red triangle and get to where I was going ',\n",
      " 'noticed_path': 3}\n",
      "-------------------------\n",
      "22 data_user=2102797549_name=exp_exp=3_debug=0.json\n",
      "\n",
      "Great experiment overall! \n",
      "bonus: 3\n",
      "feedback:\n",
      "{'feedback': 'i just went where I felt it was t right way but may have seen it '\n",
      "             'differently. ',\n",
      " 'noticed_path': 3}\n",
      "-------------------------\n",
      "24 data_user=1300029984_name=exp_exp=3_debug=0.json\n",
      "\n",
      "I noticed that once you got to the target and if there was a timer, unless you proceeded to the next page, the timer would continue to go. This could potentially end up leading to people getting to the goal in the time limit, but if they do not continue right away, the timer continue running, and depending on how the game was programmed could make it look like they did not make it to the target object in time.\n",
      "bonus: 3\n",
      "feedback:\n",
      "{'feedback': 'Although I now see you can access the knife from a different '\n",
      "             'path, when I was doing the maze originally I had been to the '\n",
      "             'orange and saw the knife was close by so it was easy to navigate '\n",
      "             'back to.',\n",
      " 'noticed_path': 3}\n",
      "-------------------------\n",
      "25 data_user=4197296808_name=exp_exp=3_debug=0.json\n",
      "\n",
      "\n",
      "bonus: 0\n",
      "feedback:\n",
      "{'feedback': 'it seemed faster ', 'noticed_path': 3}\n"
     ]
    }
   ],
   "source": [
    "import json\n",
    "nfinished = 0\n",
    "for idx, file in enumerate(files):\n",
    "    with open(file, 'r') as f:\n",
    "        try:\n",
    "            data = json.load(f)\n",
    "        except Exception as e:\n",
    "            print('-'*25)\n",
    "            print(idx, os.path.basename(file))\n",
    "            print(e)\n",
    "            continue\n",
    "        finished = data[-1].get(\"finished\", False)\n",
    "        if finished:\n",
    "            print\n",
    "            nfinished += 1\n",
    "            print('-'*25)\n",
    "            print(idx, os.path.basename(file))\n",
    "            print(\"\\n\" + data[-1]['feedback'] or \"N/A\")\n",
    "            print('bonus:', data[-1]['bonus'])\n",
    "            print('feedback:')\n",
    "            pprint(data[-2]['data'])\n",
    "\n",
    "        # else:\n",
    "        #     print(\"NOT FINISHED\")"
   ]
  },
  {
   "cell_type": "code",
   "execution_count": 18,
   "id": "4d1fef43-8bbb-4bf6-88e2-5905ce11d091",
   "metadata": {},
   "outputs": [
    {
     "name": "stdout",
     "output_type": "stream",
     "text": [
      "{'bonus': 3,\n",
      " 'feedback': 'It felt quite unresponsive for some reason.  Perhaps that was '\n",
      "             \"intentional for your purposes, but just in case it wasn't, it \"\n",
      "             'was sort of like playing a video game with extremely high '\n",
      "             'latency.  In general I was using a lot more inputs than should '\n",
      "             'have been necessary and just kind of bashing on the keys the '\n",
      "             'amount that felt right to get to where I needed to go.\\n'\n",
      "             '\\n'\n",
      "             \"It did seem like some of the times I reached the goal it didn't \"\n",
      "             \"count properly for some reason too, though I'm not sure if that \"\n",
      "             'was due to something not counting correctly or if I simply '\n",
      "             \"wasn't where I assumed I was due to the unresponsiveness.\",\n",
      " 'finished': True}\n",
      "{'data': {'feedback': \"Once I found a reasonable seeming path I didn't even \"\n",
      "                      \"really consider looking for others.  It didn't seem \"\n",
      "                      'like there would be any substantially better path so it '\n",
      "                      \"didn't feel like it was worth the time to check if \"\n",
      "                      'there were other routes that worked.',\n",
      "          'noticed_path': 3},\n",
      " 'id': 9091,\n",
      " 'metadata': {'block_metadata': {'desc': 'feedback', 'idx': 6}},\n",
      " 'name': 'maze3_feedback',\n",
      " 'session_id': 'c672799a-328c-4995-9fda-598623933865',\n",
      " 'stage_idx': 24,\n",
      " 'user_data': {'age': 33, 'sex': 'Male', 'user_id': 1678765622}}\n"
     ]
    }
   ],
   "source": [
    "from pprint import pprint\n",
    "pprint(data[-1])\n",
    "pprint(data[-2])"
   ]
  },
  {
   "cell_type": "code",
   "execution_count": 24,
   "id": "ff0a49a4-e4d0-4bfc-b374-25e33ebc4a20",
   "metadata": {},
   "outputs": [
    {
     "data": {
      "text/plain": [
       "{'id': 3271,\n",
       " 'session_id': '204ada23-39ff-4cb7-a919-29887ccabea6',\n",
       " 'name': 'big_m4_maze_short_eval_diff',\n",
       " 'stage_idx': 23,\n",
       " 'data': {'image_seen_time': '2024-10-12T18:27:07.646Z',\n",
       "  'action_taken_time': '2024-10-12T18:27:07.646Z',\n",
       "  'computer_interaction': 'timer',\n",
       "  'action_name': 'timer',\n",
       "  'action_idx': -1,\n",
       "  'timelimit': 5,\n",
       "  'timestep': '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'},\n",
       " 'user_data': {'user_id': 4197296808, 'age': 34, 'sex': 'Male'},\n",
       " 'metadata': {'maze': 'big_m4_maze_short_eval_diff',\n",
       "  'condition': 2,\n",
       "  'eval': True,\n",
       "  'block_metadata': {'manipulation': 4,\n",
       "   'desc': 'See if faster off train path than planning (short)',\n",
       "   'long': '\\n        Here there are two branches from a training path. We predict that people will have a shorter response time when an object is in the same location it was in phase 1.\\n        ',\n",
       "   'groups': [[13, 3], [43, 29]],\n",
       "   'char2idx': {'A': 13, 'B': 3, 'C': 43, 'D': 29},\n",
       "   'idx': 4},\n",
       "  'nsteps': 3,\n",
       "  'episode_idx': 1,\n",
       "  'nsuccesses': 0}}"
      ]
     },
     "execution_count": 24,
     "metadata": {},
     "output_type": "execute_result"
    }
   ],
   "source": [
    "data[-3]"
   ]
  },
  {
   "cell_type": "code",
   "execution_count": 59,
   "id": "85851e0c-115a-4131-bbe6-155d32c9e95e",
   "metadata": {},
   "outputs": [
    {
     "data": {
      "application/vnd.jupyter.widget-view+json": {
       "model_id": "512cfeefa8bb4e2986a6130cf09059b3",
       "version_major": 2,
       "version_minor": 0
      },
      "text/plain": [
       "Processing files:   0%|          | 0/2 [00:00<?, ?it/s]"
      ]
     },
     "metadata": {},
     "output_type": "display_data"
    },
    {
     "name": "stdout",
     "output_type": "stream",
     "text": [
      "Filtered 46 data point\n"
     ]
    },
    {
     "data": {
      "application/vnd.jupyter.widget-view+json": {
       "model_id": "89a8d36979c24888b9e60b48845b0216",
       "version_major": 2,
       "version_minor": 0
      },
      "text/plain": [
       "Processing episodes:   0%|          | 0/51 [00:00<?, ?it/s]"
      ]
     },
     "metadata": {},
     "output_type": "display_data"
    },
    {
     "name": "stdout",
     "output_type": "stream",
     "text": [
      "Filtered 65 data point\n"
     ]
    },
    {
     "data": {
      "application/vnd.jupyter.widget-view+json": {
       "model_id": "e7360e72f4c5436f8fa5ea614dd76474",
       "version_major": 2,
       "version_minor": 0
      },
      "text/plain": [
       "Processing episodes:   0%|          | 0/49 [00:00<?, ?it/s]"
      ]
     },
     "metadata": {},
     "output_type": "display_data"
    }
   ],
   "source": [
    "user_df, user_data = data_loading.make_all_episode_data(\n",
    "    files=files,\n",
    "    example_timestep=example_timestep,\n",
    "    base_path=user_base_path,\n",
    "    overwrite=True,\n",
    ")"
   ]
  },
  {
   "cell_type": "code",
   "execution_count": null,
   "id": "1c8b075c-cb9d-4631-a2e1-048589c38045",
   "metadata": {},
   "outputs": [],
   "source": []
  }
 ],
 "metadata": {
  "kernelspec": {
   "display_name": "Python 3 (ipykernel)",
   "language": "python",
   "name": "python3"
  },
  "language_info": {
   "codemirror_mode": {
    "name": "ipython",
    "version": 3
   },
   "file_extension": ".py",
   "mimetype": "text/x-python",
   "name": "python",
   "nbconvert_exporter": "python",
   "pygments_lexer": "ipython3",
   "version": "3.10.0"
  }
 },
 "nbformat": 4,
 "nbformat_minor": 5
}
