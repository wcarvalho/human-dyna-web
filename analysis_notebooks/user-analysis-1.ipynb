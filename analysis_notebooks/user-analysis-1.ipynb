{
 "cells": [
  {
   "cell_type": "code",
   "execution_count": 1,
   "id": "e3e798c0-eb0c-4512-95e4-9f54068f9a8a",
   "metadata": {},
   "outputs": [],
   "source": [
    "%load_ext autoreload\n",
    "%autoreload 2"
   ]
  },
  {
   "cell_type": "code",
   "execution_count": 2,
   "id": "21a07b38-c10e-49a3-955d-1e68ad7cc6f7",
   "metadata": {},
   "outputs": [
    {
     "name": "stdout",
     "output_type": "stream",
     "text": [
      "at directory: /Users/wilka/git/research/human-dyna-web/analysis_notebooks\n",
      "changing to root directory\n",
      "at directory: /Users/wilka/git/research/human-dyna-web\n"
     ]
    }
   ],
   "source": [
    "import os\n",
    "import sys\n",
    "print(\"at directory:\", os.getcwd())\n",
    "print(\"changing to root directory\")\n",
    "os.chdir(\"../\")\n",
    "print(\"at directory:\", os.getcwd())"
   ]
  },
  {
   "cell_type": "code",
   "execution_count": 4,
   "id": "ffeb054f-cbbb-4cde-8c11-d8266f4a625f",
   "metadata": {},
   "outputs": [
    {
     "name": "stdout",
     "output_type": "stream",
     "text": [
      "No file specified for image dict.\n",
      "Using: /Users/wilka/git/research/human-dyna-web/libraries/housemaze/housemaze/image_data.pkl\n"
     ]
    }
   ],
   "source": [
    "# import jax\n",
    "# import jax.numpy as jnp\n",
    "# import functools\n",
    "# from functools import partial\n",
    "# import pandas as pd\n",
    "# import numpy as np\n",
    "# from pprint import pprint\n",
    "# import glob\n",
    "# from glob import glob\n",
    "# import matplotlib.pyplot as plt\n",
    "# import polars as pl\n",
    "# from tqdm.notebook import tqdm\n",
    "\n",
    "# from projects.humansf import data_loading\n",
    "# from projects.humansf import housemaze_analysis\n",
    "# from projects.humansf import data_loading\n",
    "# from projects.humansf import housemaze_trainer\n",
    "# from projects.humansf import housemaze_experiments\n",
    "# from projects.humansf import networks\n",
    "# from housemaze.human_dyna import mazes\n",
    "\n",
    "# from housemaze import renderer\n",
    "# from housemaze import utils\n",
    "# from housemaze.human_dyna import multitask_env as maze\n",
    "# from jaxneurorl import launcher\n",
    "# from jaxneurorl.agents import value_based_basics as vbb\n",
    "\n",
    "\n",
    "# from projects.humansf import download_data"
   ]
  },
  {
   "cell_type": "code",
   "execution_count": 8,
   "id": "3d2ae99b-b8d9-4a91-ac11-40591bc6825c",
   "metadata": {},
   "outputs": [
    {
     "name": "stdout",
     "output_type": "stream",
     "text": [
      "Downloaded: data/data_user=1222909386_name=exp3-v2-r1-t30_exp=3_debug=0.json to /Users/wilka/git/research/results/human_dyna/user_data/exp3/data_user=1222909386_name=exp3-v2-r1-t30_exp=3_debug=0.json\n",
      "Downloaded: data/data_user=1628406922_name=exp3-v2-r1-t30_exp=3_debug=0.json to /Users/wilka/git/research/results/human_dyna/user_data/exp3/data_user=1628406922_name=exp3-v2-r1-t30_exp=3_debug=0.json\n",
      "Downloaded: data/data_user=1807170453_name=exp3-v2-r1-t30_exp=3_debug=0.json to /Users/wilka/git/research/results/human_dyna/user_data/exp3/data_user=1807170453_name=exp3-v2-r1-t30_exp=3_debug=0.json\n",
      "Downloaded: data/data_user=2048090953_name=exp3-v2-r1-t30_exp=3_debug=0.json to /Users/wilka/git/research/results/human_dyna/user_data/exp3/data_user=2048090953_name=exp3-v2-r1-t30_exp=3_debug=0.json\n",
      "Downloaded: data/data_user=2478728488_name=exp3-v2-r1-t30_exp=3_debug=0.json to /Users/wilka/git/research/results/human_dyna/user_data/exp3/data_user=2478728488_name=exp3-v2-r1-t30_exp=3_debug=0.json\n",
      "Downloaded: data/data_user=2647845131_name=exp3-v2-r1-t30_exp=3_debug=0.json to /Users/wilka/git/research/results/human_dyna/user_data/exp3/data_user=2647845131_name=exp3-v2-r1-t30_exp=3_debug=0.json\n",
      "Downloaded: data/data_user=2873840748_name=exp3-v2-r1-t30_exp=3_debug=0.json to /Users/wilka/git/research/results/human_dyna/user_data/exp3/data_user=2873840748_name=exp3-v2-r1-t30_exp=3_debug=0.json\n",
      "Downloaded: data/data_user=3273412908_name=exp3-v2-r1-t30_exp=3_debug=0.json to /Users/wilka/git/research/results/human_dyna/user_data/exp3/data_user=3273412908_name=exp3-v2-r1-t30_exp=3_debug=0.json\n",
      "Downloaded: data/data_user=3712207029_name=exp3-v2-r1-t30_exp=3_debug=0.json to /Users/wilka/git/research/results/human_dyna/user_data/exp3/data_user=3712207029_name=exp3-v2-r1-t30_exp=3_debug=0.json\n",
      "Downloaded: data/data_user=4173152268_name=exp3-v2-r1-t30_exp=3_debug=0.json to /Users/wilka/git/research/results/human_dyna/user_data/exp3/data_user=4173152268_name=exp3-v2-r1-t30_exp=3_debug=0.json\n",
      "Downloaded: data/data_user=4220627849_name=exp3-v2-r1-t30_exp=3_debug=0.json to /Users/wilka/git/research/results/human_dyna/user_data/exp3/data_user=4220627849_name=exp3-v2-r1-t30_exp=3_debug=0.json\n",
      "Downloaded: data/data_user=603986857_name=exp3-v2-r1-t30_exp=3_debug=0.json to /Users/wilka/git/research/results/human_dyna/user_data/exp3/data_user=603986857_name=exp3-v2-r1-t30_exp=3_debug=0.json\n",
      "Downloaded: data/data_user=722314323_name=exp3-v2-r1-t30_exp=3_debug=0.json to /Users/wilka/git/research/results/human_dyna/user_data/exp3/data_user=722314323_name=exp3-v2-r1-t30_exp=3_debug=0.json\n",
      "Downloaded: data/data_user=877375206_name=exp3-v2-r1-t30_exp=3_debug=0.json to /Users/wilka/git/research/results/human_dyna/user_data/exp3/data_user=877375206_name=exp3-v2-r1-t30_exp=3_debug=0.json\n"
     ]
    }
   ],
   "source": [
    "from analysis import data_loading\n",
    "from analysis.download_data import download_user_files\n",
    "\n",
    "bucket_name = \"human-dyna\"\n",
    "prefix = \"data/\"\n",
    "#pattern = \"data/data_user=*_name=r0-v2*debug=0.json\"\n",
    "human_data_pattern = \"data/data_user=*exp3*v2*debug=0.json\"\n",
    "destination_folder = \"/Users/wilka/git/research/results/human_dyna/user_data/exp3\"\n",
    "\n",
    "download_user_files(bucket_name, prefix, human_data_pattern, destination_folder)"
   ]
  },
  {
   "cell_type": "code",
   "execution_count": 9,
   "id": "5b27fd57-f845-401a-bc21-7d725c4612fc",
   "metadata": {},
   "outputs": [
    {
     "data": {
      "text/plain": [
       "14"
      ]
     },
     "execution_count": 9,
     "metadata": {},
     "output_type": "execute_result"
    }
   ],
   "source": [
    "from glob import glob\n",
    "data_dir = '/Users/wilka/git/research/results/human_dyna/'\n",
    "files = f'{data_dir}/user_data/*exp3*/*exp3*v2*.json'\n",
    "user_base_path = f'{data_dir}/user_data'\n",
    "files = list(set(glob(files)))\n",
    "len(files)"
   ]
  },
  {
   "cell_type": "code",
   "execution_count": 11,
   "id": "8afda695-6e57-4454-a149-e5bfc9a09e89",
   "metadata": {},
   "outputs": [
    {
     "name": "stdout",
     "output_type": "stream",
     "text": [
      "-------------------------\n",
      "0 data_user=1628406922_name=exp3-v2-r1-t30_exp=3_debug=0.json\n",
      "\n",
      "Everything went smoothly so far.\n",
      "bonus: 3\n",
      "feedback:\n",
      "{'feedback': 'I was familiar with the path and it seemed to be the most '\n",
      "             'efficient path.',\n",
      " 'question': 'You used the same path as in Phase 1. Please briefly describe '\n",
      "             'why.'}\n",
      "-------------------------\n",
      "1 data_user=603986857_name=exp3-v2-r1-t30_exp=3_debug=0.json\n",
      "\n",
      "nice \n",
      "bonus: 3\n",
      "feedback:\n",
      "{'action_idx': -1,\n",
      " 'action_name': 'timer',\n",
      " 'action_taken_time': '2024-10-17T06:43:53.430Z',\n",
      " 'computer_interaction': 'timer',\n",
      " 'image_seen_time': '2024-10-17T06:43:53.430Z',\n",
      " 'timelimit': 30,\n",
      " 'timestep': 'hqVzdGF0ZY2ja2V5gqEwzi2stFWhMc5W9JkIqHN0ZXBfbnVtSaRncmlk3gASoTDeABqhMIGhMAChMYGhMAChMoGhMAChM4GhMAGhNIGhMAGhNYGhMAChNoGhMAChN4GhMAChOIGhMAChOYGhMACiMTCBoTAAojExgaEwAKIxMoGhMACiMTOBoTAAojE0gaEwAKIxNYGhMAGiMTaBoTAAojE3gaEwAKIxOIGhMACiMTmBoTAAojIwgaEwAKIyMYGhMACiMjKBoTADojIzgaEwAKIyNIGhMACiMjWBoTAAoTHeABqhMIGhMAChMYGhMAChMoGhMAChM4GhMAGhNIGhMAChNYGhMAChNoGhMAGhN4GhMAGhOIGhMAGhOYGhMAGiMTCBoTABojExgaEwAKIxMoGhMACiMTOBoTAAojE0gaEwAKIxNYGhMAGiMTaBoTAAojE3gaEwAaIxOIGhMAGiMTmBoTABojIwgaEwAaIyMYGhMAGiMjKBoTABojIzgaEwAKIyNIGhMACiMjWBoTAAoTLeABqhMIGhMAChMYGhMAChMoGhMAChM4GhMAGhNIGhMAChNYGhMAGhNoGhMAGhN4GhMAGhOIGhMAChOYGhMACiMTCBoTABojExgaEwAKIxMoGhMAGiMTOBoTABojE0gaEwAaIxNYGhMAGiMTaBoTAAojE3gaEwAKIxOIGhMACiMTmBoTAAojIwgaEwAaIyMYGhMACiMjKBoTAAojIzgaEwAKIyNIGhMACiMjWBoTAAoTPeABqhMIGhMAChMYGhMAChMoGhMAChM4GhMAGhNIGhMAChNYGhMAChNoGhMAChN4GhMAChOIGhMAChOYGhMACiMTCBoTABojExgaEwAKIxMoGhMAGiMTOBoTAAojE0gaEwAKIxNYGhMAGiMTaBoTABojE3gaEwAaIxOIGhMAGiMTmBoTAAojIwgaEwAaIyMYGhMACiMjKBoTAAojIzgaEwAKIyNIGhMA2iMjWBoTAAoTTeABqhMIGhMAGhMYGhMAChMoGhMAGhM4GhMAGhNIGhMAGhNYGhMAGhNoGhMAGhN4GhMAChOIGhMAGhOYGhMAGiMTCBoTABojExgaEwAKIxMoGhMAGiMTOBoTAAojE0gaEwAKIxNYGhMACiMTaBoTABojE3gaEwAKIxOIGhMAGiMTmBoTAAojIwgaEwAaIyMYGhMACiMjKBoTABojIzgaEwAaIyNIGhMAGiMjWBoTABoTXeABqhMIGhMAChMYGhMAChMoGhMAChM4GhMAChNIGhMAChNYGhMAChNoGhMAChN4GhMAChOIGhMAChOYGhMACiMTCBoTABojExgaEwAKIxMoGhMACiMTOBoTAAojE0gaEwAaIxNYGhMACiMTaBoTABojE3gaEwAKIxOIGhMAGiMTmBoTAAojIwgaEwAaIyMYGhMACiMjKBoTAAojIzgaEwAKIyNIGhMACiMjWBoTAAoTbeABqhMIGhMAGhMYGhMAGhMoGhMAChM4GhMAGhNIGhMAGhNYGhMAGhNoGhMAGhN4GhMAGhOIGhMAGhOYGhMAGiMTCBoTABojExgaEwAaIxMoGhMAGiMTOBoTAAojE0gaEwAaIxNYGhMACiMTaBoTAAojE3gaEwAKIxOIGhMAGiMTmBoTAAojIwgaEwAaIyMYGhMAGiMjKBoTABojIzgaEwAaIyNIGhMACiMjWBoTABoTfeABqhMIGhMAChMYGhMAChMoGhMAChM4GhMAGhNIGhMAChNYGhMAChNoGhMAGhN4GhMAGhOIGhMAChOYGhMACiMTCBoTAAojExgaEwAKIxMoGhMAGiMTOBoTAAojE0gaEwAKIxNYGhMACiMTaBoTABojE3gaEwAKIxOIGhMACiMTmBoTAAojIwgaEwAaIyMYGhMACiMjKBoTABojIzgaEwAaIyNIGhMACiMjWBoTAAoTjeABqhMIGhMAChMYGhMAChMoGhMAChM4GhMAChNIGhMAChNYGhMAChNoGhMAChN4GhMAGhOIGhMAChOYGhMACiMTCBoTABojExgaEwAKIxMoGhMAGiMTOBoTAAojE0gaEwAKIxNYGhMACiMTaBoTABojE3gaEwAKIxOIGhMAGiMTmBoTABojIwgaEwAaIyMYGhMACiMjKBoTAAojIzgaEwAaIyNIGhMAGiMjWBoTAAoTneABqhMIGhMAGhMYGhMAGhMoGhMAChM4GhMAGhNIGhMAGhNYGhMAChNoGhMAGhN4GhMAGhOIGhMAChOYGhMACiMTCBoTABojExgaEwAaIxMoGhMAGiMTOBoTABojE0gaEwAaIxNYGhMACiMTaBoTABojE3gaEwAaIxOIGhMAGiMTmBoTAAojIwgaEwAKIyMYGhMACiMjKBoTABojIzgaEwAKIyNIGhMAGiMjWBoTAAojEw3gAaoTCBoTAAoTGBoTAAoTKBoTAAoTOBoTAAoTSBoTAAoTWBoTAAoTaBoTAAoTeBoTAAoTiBoTAAoTmBoTAAojEwgaEwAaIxMYGhMACiMTKBoTAAojEzgaEwAKIxNIGhMAGiMTWBoTAAojE2gaEwAaIxN4GhMACiMTiBoTABojE5gaEwAKIyMIGhMAGiMjGBoTAAojIygaEwAKIyM4GhMACiMjSBoTAAojI1gaEwAKIxMd4AGqEwgaEwAaExgaEwAKEygaEwAKEzgaEwAaE0gaEwAaE1gaEwAaE2gaEwAaE3gaEwAaE4gaEwAaE5gaEwAaIxMIGhMAGiMTGBoTABojEygaEwAaIxM4GhMACiMTSBoTABojE1gaEwAKIxNoGhMAGiMTeBoTAAojE4gaEwAaIxOYGhMACiMjCBoTABojIxgaEwAaIyMoGhMAGiMjOBoTABojI0gaEwAKIyNYGhMAGiMTLeABqhMIGhMAChMYGhMAChMoGhMAGhM4GhMAGhNIGhMAChNYGhMAChNoGhMAGhN4GhMAGhOIGhMAChOYGhMACiMTCBoTAAojExgaEwAKIxMoGhMAGiMTOBoTAAojE0gaEwAaIxNYGhMAGiMTaBoTABojE3gaEwAKIxOIGhMACiMTmBoTAAojIwgaEwAaIyMYGhMACiMjKBoTABojIzgaEwAaIyNIGhMACiMjWBoTAAojEz3gAaoTCBoTAAoTGBoTABoTKBoTAAoTOBoTAAoTSBoTAAoTWBoTAAoTaBoTAAoTeBoTABoTiBoTAAoTmBoTAAojEwgaEwAaIxMYGhMACiMTKBoTAAojEzgaEwAKIxNIGhMACiMTWBoTAAojE2gaEwAaIxN4GhMACiMTiBoTAAojE5gaEwAaIyMIGhMAGiMjGBoTAAojIygaEwAKIyM4GhMAGiMjSBoTABojI1gaEwAKIxNN4AGqEwgaEwAKExgaEwAaEygaEwAKEzgaEwAaE0gaEwAaE1gaEwAKE2gaEwAaE3gaEwAaE4gaEwAKE5gaEwAKIxMIGhMAGiMTGBoTABojEygaEwAaIxM4GhMAGiMTSBoTABojE1gaEwAKIxNoGhMAGiMTeBoTABojE4gaEwAKIxOYGhMAGiMjCBoTAAojIxgaEwAKIyMoGhMACiMjOBoTAAojI0gaEwAaIyNYGhMACiMTXeABqhMIGhMAChMYGhMAGhMoGhMAChM4GhMAGhNIGhMAChNYGhMAChNoGhMAGhN4GhMAChOIGhMAChOYGhMACiMTCBoTABojExgaEwAKIxMoGhMACiMTOBoTAAojE0gaEwAKIxNYGhMACiMTaBoTABojE3gaEwAKIxOIGhMACiMTmBoTABojIwgaEwAKIyMYGhMAGiMjKBoTABojIzgaEwAKIyNIGhMACiMjWBoTAAojE23gAaoTCBoTAAoTGBoTABoTKBoTAAoTOBoTABoTSBoTAAoTWBoTAAoTaBoTABoTeBoTAAoTiBoTAAoTmBoTAAojEwgaEwAaIxMYGhMACiMTKBoTAAojEzgaEwAaIxNIGhMAGiMTWBoTABojE2gaEwAaIxN4GhMAGiMTiBoTABojE5gaEwAaIyMIGhMACiMjGBoTAAojIygaEwAaIyM4GhMACiMjSBoTAAojI1gaEwAKIxN94AGqEwgaEwAKExgaEwAKEygaEwAKEzgaEwAaE0gaEwAKE1gaEwAKE2gaEwAKE3gaEwAKE4gaEwAKE5gaEwAKIxMIGhMAGiMTGBoTAAojEygaEwAKIxM4GhMACiMTSBoTAAojE1gaEwAKIxNoGhMACiMTeBoTAAojE4gaEwAKIxOYGhMACiMjCBoTAAojIxgaEwAKIyMoGhMAGiMjOBoTArojI0gaEwAKIyNYGhMB2pYWdlbnRfcG9zgqEwCKExDqlhZ2VudF9kaXIAp21hcF9pZHgApnRhc2tfd4ShMAChMQChMgChMwGtaXNfdHJhaW5fdGFza8KrdGFza19vYmplY3QDrWN1cnJlbnRfbGFiZWwAqW9mZnRhc2tfd4ShMAChMQGhMgChMwCqdGFza19zdGF0ZYKoZmVhdHVyZXOEoTAAoTEAoTIAoTMApGdyaWTeABKhMN4AGqEwgaEwAKExgaEwAKEygaEwAKEzgaEwAaE0gaEwAaE1gaEwAKE2gaEwAKE3gaEwAKE4gaEwAKE5gaEwAKIxMIGhMACiMTGBoTAAojEygaEwAKIxM4GhMACiMTSBoTAAojE1gaEwAaIxNoGhMACiMTeBoTAAojE4gaEwAKIxOYGhMACiMjCBoTAAojIxgaEwAKIyMoGhMAOiMjOBoTAAojI0gaEwAKIyNYGhMAChMd4AGqEwgaEwAKExgaEwAKEygaEwAKEzgaEwAaE0gaEwAKE1gaEwAKE2gaEwAaE3gaEwAaE4gaEwAaE5gaEwAaIxMIGhMAGiMTGBoTAAojEygaEwAKIxM4GhMACiMTSBoTAAojE1gaEwAaIxNoGhMACiMTeBoTABojE4gaEwAaIxOYGhMAGiMjCBoTABojIxgaEwAaIyMoGhMAGiMjOBoTAAojI0gaEwAKIyNYGhMAChMt4AGqEwgaEwAKExgaEwAKEygaEwAKEzgaEwAaE0gaEwAKE1gaEwAaE2gaEwAaE3gaEwAaE4gaEwAKE5gaEwAKIxMIGhMAGiMTGBoTAAojEygaEwAaIxM4GhMAGiMTSBoTABojE1gaEwAaIxNoGhMACiMTeBoTAAojE4gaEwAKIxOYGhMACiMjCBoTABojIxgaEwAKIyMoGhMACiMjOBoTAAojI0gaEwAKIyNYGhMAChM94AGqEwgaEwAKExgaEwAKEygaEwAKEzgaEwAaE0gaEwAKE1gaEwAKE2gaEwAKE3gaEwAKE4gaEwAKE5gaEwAKIxMIGhMAGiMTGBoTAAojEygaEwAaIxM4GhMACiMTSBoTAAojE1gaEwAaIxNoGhMAGiMTeBoTABojE4gaEwAaIxOYGhMACiMjCBoTABojIxgaEwAKIyMoGhMACiMjOBoTAAojI0gaEwDaIyNYGhMAChNN4AGqEwgaEwAaExgaEwAKEygaEwAaEzgaEwAaE0gaEwAaE1gaEwAaE2gaEwAaE3gaEwAKE4gaEwAaE5gaEwAaIxMIGhMAGiMTGBoTAAojEygaEwAaIxM4GhMACiMTSBoTAAojE1gaEwAKIxNoGhMAGiMTeBoTAAojE4gaEwAaIxOYGhMACiMjCBoTABojIxgaEwAKIyMoGhMAGiMjOBoTABojI0gaEwAaIyNYGhMAGhNd4AGqEwgaEwAKExgaEwAKEygaEwAKEzgaEwAKE0gaEwAKE1gaEwAKE2gaEwAKE3gaEwAKE4gaEwAKE5gaEwAKIxMIGhMAGiMTGBoTAAojEygaEwAKIxM4GhMACiMTSBoTABojE1gaEwAKIxNoGhMAGiMTeBoTAAojE4gaEwAaIxOYGhMACiMjCBoTABojIxgaEwAKIyMoGhMACiMjOBoTAAojI0gaEwAKIyNYGhMAChNt4AGqEwgaEwAaExgaEwAaEygaEwAKEzgaEwAaE0gaEwAaE1gaEwAaE2gaEwAaE3gaEwAaE4gaEwAaE5gaEwAaIxMIGhMAGiMTGBoTABojEygaEwAaIxM4GhMACiMTSBoTABojE1gaEwAKIxNoGhMACiMTeBoTAAojE4gaEwAaIxOYGhMACiMjCBoTABojIxgaEwAaIyMoGhMAGiMjOBoTABojI0gaEwAKIyNYGhMAGhN94AGqEwgaEwAKExgaEwAKEygaEwAKEzgaEwAaE0gaEwAKE1gaEwAKE2gaEwAaE3gaEwAaE4gaEwAKE5gaEwAKIxMIGhMACiMTGBoTAAojEygaEwAaIxM4GhMACiMTSBoTAAojE1gaEwAKIxNoGhMAGiMTeBoTAAojE4gaEwAKIxOYGhMACiMjCBoTABojIxgaEwAKIyMoGhMAGiMjOBoTABojI0gaEwAKIyNYGhMAChON4AGqEwgaEwAKExgaEwAKEygaEwAKEzgaEwAKE0gaEwAKE1gaEwAKE2gaEwAKE3gaEwAaE4gaEwAKE5gaEwAKIxMIGhMAGiMTGBoTAAojEygaEwAaIxM4GhMACiMTSBoTAAojE1gaEwAKIxNoGhMAGiMTeBoTAAojE4gaEwAaIxOYGhMAGiMjCBoTABojIxgaEwAKIyMoGhMACiMjOBoTABojI0gaEwAaIyNYGhMAChOd4AGqEwgaEwAaExgaEwAaEygaEwAKEzgaEwAaE0gaEwAaE1gaEwAKE2gaEwAaE3gaEwAaE4gaEwAKE5gaEwAKIxMIGhMAGiMTGBoTABojEygaEwAaIxM4GhMAGiMTSBoTABojE1gaEwAKIxNoGhMAGiMTeBoTABojE4gaEwAaIxOYGhMACiMjCBoTAAojIxgaEwAKIyMoGhMAGiMjOBoTAAojI0gaEwAaIyNYGhMACiMTDeABqhMIGhMAChMYGhMAChMoGhMAChM4GhMAChNIGhMAChNYGhMAChNoGhMAChN4GhMAChOIGhMAChOYGhMACiMTCBoTABojExgaEwAKIxMoGhMACiMTOBoTAAojE0gaEwAaIxNYGhMACiMTaBoTABojE3gaEwAKIxOIGhMAGiMTmBoTAAojIwgaEwAaIyMYGhMACiMjKBoTAAojIzgaEwAKIyNIGhMACiMjWBoTAAojEx3gAaoTCBoTABoTGBoTAAoTKBoTAAoTOBoTABoTSBoTABoTWBoTABoTaBoTABoTeBoTABoTiBoTABoTmBoTABojEwgaEwAaIxMYGhMAGiMTKBoTABojEzgaEwAKIxNIGhMAGiMTWBoTAAojE2gaEwAaIxN4GhMACiMTiBoTABojE5gaEwAKIyMIGhMAGiMjGBoTABojIygaEwAaIyM4GhMAGiMjSBoTAAojI1gaEwAaIxMt4AGqEwgaEwAKExgaEwAKEygaEwAaEzgaEwAaE0gaEwAKE1gaEwAKE2gaEwAaE3gaEwAaE4gaEwAKE5gaEwAKIxMIGhMACiMTGBoTAAojEygaEwAaIxM4GhMACiMTSBoTABojE1gaEwAaIxNoGhMAGiMTeBoTAAojE4gaEwAKIxOYGhMACiMjCBoTABojIxgaEwAKIyMoGhMAGiMjOBoTABojI0gaEwAKIyNYGhMACiMTPeABqhMIGhMAChMYGhMAGhMoGhMAChM4GhMAChNIGhMAChNYGhMAChNoGhMAChN4GhMAGhOIGhMAChOYGhMACiMTCBoTABojExgaEwAKIxMoGhMACiMTOBoTAAojE0gaEwAKIxNYGhMACiMTaBoTABojE3gaEwAKIxOIGhMACiMTmBoTABojIwgaEwAaIyMYGhMACiMjKBoTAAojIzgaEwAaIyNIGhMAGiMjWBoTAAojE03gAaoTCBoTAAoTGBoTABoTKBoTAAoTOBoTABoTSBoTABoTWBoTAAoTaBoTABoTeBoTABoTiBoTAAoTmBoTAAojEwgaEwAaIxMYGhMAGiMTKBoTABojEzgaEwAaIxNIGhMAGiMTWBoTAAojE2gaEwAaIxN4GhMAGiMTiBoTAAojE5gaEwAaIyMIGhMACiMjGBoTAAojIygaEwAKIyM4GhMACiMjSBoTABojI1gaEwAKIxNd4AGqEwgaEwAKExgaEwAaEygaEwAKEzgaEwAaE0gaEwAKE1gaEwAKE2gaEwAaE3gaEwAKE4gaEwAKE5gaEwAKIxMIGhMAGiMTGBoTAAojEygaEwAKIxM4GhMACiMTSBoTAAojE1gaEwAKIxNoGhMAGiMTeBoTAAojE4gaEwAKIxOYGhMAGiMjCBoTAAojIxgaEwAaIyMoGhMAGiMjOBoTAAojI0gaEwAKIyNYGhMACiMTbeABqhMIGhMAChMYGhMAGhMoGhMAChM4GhMAGhNIGhMAChNYGhMAChNoGhMAGhN4GhMAChOIGhMAChOYGhMACiMTCBoTABojExgaEwAKIxMoGhMACiMTOBoTABojE0gaEwAaIxNYGhMAGiMTaBoTABojE3gaEwAaIxOIGhMAGiMTmBoTABojIwgaEwAKIyMYGhMACiMjKBoTABojIzgaEwAKIyNIGhMACiMjWBoTAAojE33gAaoTCBoTAAoTGBoTAAoTKBoTAAoTOBoTABoTSBoTAAoTWBoTAAoTaBoTAAoTeBoTAAoTiBoTAAoTmBoTAAojEwgaEwAaIxMYGhMACiMTKBoTAAojEzgaEwAKIxNIGhMACiMTWBoTAAojE2gaEwAKIxN4GhMACiMTiBoTAAojE5gaEwAKIyMIGhMACiMjGBoTAAojIygaEwAaIyM4GhMCuiMjSBoTAAojI1gaEwHalzdWNjZXNzZXOEoTAAoTEAoTIAoTMAqXN0ZXBfdHlwZQGmcmV3YXJkywAAAAAAAAAAqGRpc2NvdW50yz/wAAAAAAAAq29ic2VydmF0aW9uhqVpbWFnZd4AEqEw3gAaoTAAoTEAoTIAoTMBoTQBoTUAoTYAoTcAoTgAoTkAojEwAKIxMQCiMTIAojEzAKIxNACiMTUBojE2AKIxNwCiMTgAojE5AKIyMACiMjEAojIyA6IyMwCiMjQAojI1AKEx3gAaoTAAoTEAoTIAoTMBoTQAoTUAoTYBoTcBoTgBoTkBojEwAaIxMQCiMTIAojEzAKIxNACiMTUBojE2AKIxNwGiMTgBojE5AaIyMAGiMjEBojIyAaIyMwCiMjQAojI1AKEy3gAaoTAAoTEAoTIAoTMBoTQAoTUBoTYBoTcBoTgAoTkAojEwAaIxMQCiMTIBojEzAaIxNAGiMTUBojE2AKIxNwCiMTgAojE5AKIyMAGiMjEAojIyAKIyMwCiMjQAojI1AKEz3gAaoTAAoTEAoTIAoTMBoTQAoTUAoTYAoTcAoTgAoTkAojEwAaIxMQCiMTIBojEzAKIxNACiMTUBojE2AaIxNwGiMTgBojE5AKIyMAGiMjEAojIyAKIyMwCiMjQNojI1AKE03gAaoTABoTEAoTIBoTMBoTQBoTUBoTYBoTcAoTgBoTkBojEwAaIxMQCiMTIBojEzAKIxNACiMTUAojE2AaIxNwCiMTgBojE5AKIyMAGiMjEAojIyAaIyMwGiMjQBojI1AaE13gAaoTAAoTEAoTIAoTMAoTQAoTUAoTYAoTcAoTgAoTkAojEwAaIxMQCiMTIAojEzAKIxNAGiMTUAojE2AaIxNwCiMTgBojE5AKIyMAGiMjEAojIyAKIyMwCiMjQAojI1AKE23gAaoTABoTEBoTIAoTMBoTQBoTUBoTYBoTcBoTgBoTkBojEwAaIxMQGiMTIBojEzAKIxNAGiMTUAojE2AKIxNwCiMTgBojE5AKIyMAGiMjEBojIyAaIyMwGiMjQAojI1AaE33gAaoTAAoTEAoTIAoTMBoTQAoTUAoTYBoTcBoTgAoTkAojEwAKIxMQCiMTIBojEzAKIxNACiMTUAojE2AaIxNwCiMTgAojE5AKIyMAGiMjEAojIyAaIyMwGiMjQAojI1AKE43gAaoTAAoTEAoTIAoTMAoTQAoTUAoTYAoTcBoTgAoTkAojEwAaIxMQCiMTIBojEzAKIxNACiMTUAojE2AaIxNwCiMTgBojE5AaIyMAGiMjEAojIyAKIyMwGiMjQBojI1AKE53gAaoTABoTEBoTIAoTMBoTQBoTUAoTYBoTcBoTgAoTkAojEwAaIxMQGiMTIBojEzAaIxNAGiMTUAojE2AaIxNwGiMTgBojE5AKIyMACiMjEAojIyAaIyMwCiMjQBojI1AKIxMN4AGqEwAKExAKEyAKEzAKE0AKE1AKE2AKE3AKE4AKE5AKIxMAGiMTEAojEyAKIxMwCiMTQBojE1AKIxNgGiMTcAojE4AaIxOQCiMjABojIxAKIyMgCiMjMAojI0AKIyNQCiMTHeABqhMAGhMQChMgChMwGhNAGhNQGhNgGhNwGhOAGhOQGiMTABojExAaIxMgGiMTMAojE0AaIxNQCiMTYBojE3AKIxOAGiMTkAojIwAaIyMQGiMjIBojIzAaIyNACiMjUBojEy3gAaoTAAoTEAoTIBoTMBoTQAoTUAoTYBoTcBoTgAoTkAojEwAKIxMQCiMTIBojEzAKIxNAGiMTUBojE2AaIxNwCiMTgAojE5AKIyMAGiMjEAojIyAaIyMwGiMjQAojI1AKIxM94AGqEwAKExAaEyAKEzAKE0AKE1AKE2AKE3AaE4AKE5AKIxMAGiMTEAojEyAKIxMwCiMTQAojE1AKIxNgGiMTcAojE4AKIxOQGiMjABojIxAKIyMgCiMjMBojI0AaIyNQCiMTTeABqhMAChMQGhMgChMwGhNAGhNQChNgGhNwGhOAChOQCiMTABojExAaIxMgGiMTMBojE0AaIxNQCiMTYBojE3AaIxOACiMTkBojIwAKIyMQCiMjIAojIzAKIyNAGiMjUAojE13gAaoTAAoTEBoTIAoTMBoTQAoTUAoTYBoTcAoTgAoTkAojEwAaIxMQCiMTIAojEzAKIxNACiMTUAojE2AaIxNwCiMTgAojE5AaIyMACiMjEBojIyAaIyMwCiMjQAojI1AKIxNt4AGqEwAKExAaEyAKEzAaE0AKE1AKE2AaE3AKE4AKE5AKIxMAGiMTEAojEyAKIxMwGiMTQBojE1AaIxNgGiMTcBojE4AaIxOQGiMjAAojIxAKIyMgGiMjMAojI0AKIyNQCiMTfeABqhMAChMQChMgChMwGhNAChNQChNgChNwChOAChOQCiMTABojExAKIxMgCiMTMAojE0AKIxNQCiMTYAojE3AKIxOACiMTkAojIwAKIyMQCiMjIBojIzK6IyNACiMjUdpnRhc2tfd4ShMMsAAAAAAAAAAKExywAAAAAAAAAAoTLLAAAAAAAAAAChM8s/8AAAAAAAAK5zdGF0ZV9mZWF0dXJlc4ShMMsAAAAAAAAAAKExywAAAAAAAAAAoTLLAAAAAAAAAAChM8sAAAAAAAAAAKhwb3NpdGlvboKhMD+hMVepZGlyZWN0aW9uM6twcmV2X2FjdGlvbmOoZmluaXNoZWTC'}\n",
      "-------------------------\n",
      "2 data_user=1807170453_name=exp3-v2-r1-t30_exp=3_debug=0.json\n",
      "\n",
      "The experiment went fine and it was fun. I enjoyed it.\n",
      "bonus: 3\n",
      "feedback:\n",
      "{'feedback': 'It was the path that I was most familiar with. I was also '\n",
      "             'confident in it.',\n",
      " 'question': 'You used the same path as in Phase 1. Please briefly describe '\n",
      "             'why.'}\n",
      "-------------------------\n",
      "3 data_user=722314323_name=exp3-v2-r1-t30_exp=3_debug=0.json\n",
      "\n",
      "All clear, except the colors !\n",
      "bonus: 3\n",
      "feedback:\n",
      "{'feedback': 'Of course, I tried to find a more direct way.',\n",
      " 'question': 'You used a different path as in Phase 1. Please briefly describe '\n",
      "             'why. For example, did you re-plan how to get the object?'}\n",
      "-------------------------\n",
      "9 data_user=2647845131_name=exp3-v2-r1-t30_exp=3_debug=0.json\n",
      "\n",
      "\n",
      "bonus: 3\n",
      "feedback:\n",
      "{'feedback': \"I don't think I noticed. The path I chose was based on what was \"\n",
      "             'the quickest to get to the target. Whether I used the same path '\n",
      "             'or not was not a strategy on my end.',\n",
      " 'question': 'You used the same path as in Phase 1. Please briefly describe '\n",
      "             'why.'}\n",
      "-------------------------\n",
      "12 data_user=877375206_name=exp3-v2-r1-t30_exp=3_debug=0.json\n",
      "\n",
      "I didn't have any issues.\n",
      "bonus: 3\n",
      "feedback:\n",
      "{'feedback': 'I thought it would be quicker to get to the spoon using that '\n",
      "             'path based on where I started.',\n",
      " 'question': 'You used a different path as in Phase 1. Please briefly describe '\n",
      "             'why. For example, did you re-plan how to get the object?'}\n",
      "-------------------------\n",
      "13 data_user=3712207029_name=exp3-v2-r1-t30_exp=3_debug=0.json\n",
      "\n",
      "I think I mistakenly went out of full screen. When I went back into full screen the page did not seem to recognize I was back in full screen. There was text instructing me to go into full screen even though I had gone back into full screen after mistakenly going out of it. I eventually refreshed the page after, I think, going in and out of full screen and, I think, clicking on things and nothing else working. Refreshing the page allowed me to continue, I assume, where left off.\n",
      "bonus: 3\n",
      "feedback:\n",
      "{'feedback': 'If I understand correctly, you are asking about my using the '\n",
      "             'same path to get the spoon and the potato with the above maze. I '\n",
      "             'think maybe I used the same path, if I did, because I maybe had '\n",
      "             'already taken that path. Maybe it felt like the path of least '\n",
      "             'resistance given I had maybe already taken this path and knew it '\n",
      "             'would get me to where I wanted to go to get what I wanted to '\n",
      "             'get.',\n",
      " 'question': 'You used the same path as in Phase 1. Please briefly describe '\n",
      "             'why.'}\n"
     ]
    }
   ],
   "source": [
    "from pprint import pprint\n",
    "import json\n",
    "nfinished = 0\n",
    "for idx, file in enumerate(files):\n",
    "    with open(file, 'r') as f:\n",
    "        try:\n",
    "            data = json.load(f)\n",
    "        except Exception as e:\n",
    "            print('-'*25)\n",
    "            print(idx, os.path.basename(file))\n",
    "            print(e)\n",
    "            continue\n",
    "        finished = data[-1].get(\"finished\", False)\n",
    "        if finished:\n",
    "            print\n",
    "            nfinished += 1\n",
    "            print('-'*25)\n",
    "            print(idx, os.path.basename(file))\n",
    "            print(\"\\n\" + data[-1]['feedback'] or \"N/A\")\n",
    "            print('bonus:', data[-1]['bonus'])\n",
    "            print('feedback:')\n",
    "            pprint(data[-2]['data'])\n",
    "\n",
    "        # else:\n",
    "        #     print(\"NOT FINISHED\")"
   ]
  },
  {
   "cell_type": "code",
   "execution_count": 18,
   "id": "4d1fef43-8bbb-4bf6-88e2-5905ce11d091",
   "metadata": {},
   "outputs": [
    {
     "name": "stdout",
     "output_type": "stream",
     "text": [
      "{'bonus': 3,\n",
      " 'feedback': 'It felt quite unresponsive for some reason.  Perhaps that was '\n",
      "             \"intentional for your purposes, but just in case it wasn't, it \"\n",
      "             'was sort of like playing a video game with extremely high '\n",
      "             'latency.  In general I was using a lot more inputs than should '\n",
      "             'have been necessary and just kind of bashing on the keys the '\n",
      "             'amount that felt right to get to where I needed to go.\\n'\n",
      "             '\\n'\n",
      "             \"It did seem like some of the times I reached the goal it didn't \"\n",
      "             \"count properly for some reason too, though I'm not sure if that \"\n",
      "             'was due to something not counting correctly or if I simply '\n",
      "             \"wasn't where I assumed I was due to the unresponsiveness.\",\n",
      " 'finished': True}\n",
      "{'data': {'feedback': \"Once I found a reasonable seeming path I didn't even \"\n",
      "                      \"really consider looking for others.  It didn't seem \"\n",
      "                      'like there would be any substantially better path so it '\n",
      "                      \"didn't feel like it was worth the time to check if \"\n",
      "                      'there were other routes that worked.',\n",
      "          'noticed_path': 3},\n",
      " 'id': 9091,\n",
      " 'metadata': {'block_metadata': {'desc': 'feedback', 'idx': 6}},\n",
      " 'name': 'maze3_feedback',\n",
      " 'session_id': 'c672799a-328c-4995-9fda-598623933865',\n",
      " 'stage_idx': 24,\n",
      " 'user_data': {'age': 33, 'sex': 'Male', 'user_id': 1678765622}}\n"
     ]
    }
   ],
   "source": [
    "from pprint import pprint\n",
    "pprint(data[-1])\n",
    "pprint(data[-2])"
   ]
  },
  {
   "cell_type": "code",
   "execution_count": 24,
   "id": "ff0a49a4-e4d0-4bfc-b374-25e33ebc4a20",
   "metadata": {},
   "outputs": [
    {
     "data": {
      "text/plain": [
       "{'id': 3271,\n",
       " 'session_id': '204ada23-39ff-4cb7-a919-29887ccabea6',\n",
       " 'name': 'big_m4_maze_short_eval_diff',\n",
       " 'stage_idx': 23,\n",
       " 'data': {'image_seen_time': '2024-10-12T18:27:07.646Z',\n",
       "  'action_taken_time': '2024-10-12T18:27:07.646Z',\n",
       "  'computer_interaction': 'timer',\n",
       "  'action_name': 'timer',\n",
       "  'action_idx': -1,\n",
       "  'timelimit': 5,\n",
       "  'timestep': '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'},\n",
       " 'user_data': {'user_id': 4197296808, 'age': 34, 'sex': 'Male'},\n",
       " 'metadata': {'maze': 'big_m4_maze_short_eval_diff',\n",
       "  'condition': 2,\n",
       "  'eval': True,\n",
       "  'block_metadata': {'manipulation': 4,\n",
       "   'desc': 'See if faster off train path than planning (short)',\n",
       "   'long': '\\n        Here there are two branches from a training path. We predict that people will have a shorter response time when an object is in the same location it was in phase 1.\\n        ',\n",
       "   'groups': [[13, 3], [43, 29]],\n",
       "   'char2idx': {'A': 13, 'B': 3, 'C': 43, 'D': 29},\n",
       "   'idx': 4},\n",
       "  'nsteps': 3,\n",
       "  'episode_idx': 1,\n",
       "  'nsuccesses': 0}}"
      ]
     },
     "execution_count": 24,
     "metadata": {},
     "output_type": "execute_result"
    }
   ],
   "source": [
    "data[-3]"
   ]
  },
  {
   "cell_type": "code",
   "execution_count": 59,
   "id": "85851e0c-115a-4131-bbe6-155d32c9e95e",
   "metadata": {},
   "outputs": [
    {
     "data": {
      "application/vnd.jupyter.widget-view+json": {
       "model_id": "512cfeefa8bb4e2986a6130cf09059b3",
       "version_major": 2,
       "version_minor": 0
      },
      "text/plain": [
       "Processing files:   0%|          | 0/2 [00:00<?, ?it/s]"
      ]
     },
     "metadata": {},
     "output_type": "display_data"
    },
    {
     "name": "stdout",
     "output_type": "stream",
     "text": [
      "Filtered 46 data point\n"
     ]
    },
    {
     "data": {
      "application/vnd.jupyter.widget-view+json": {
       "model_id": "89a8d36979c24888b9e60b48845b0216",
       "version_major": 2,
       "version_minor": 0
      },
      "text/plain": [
       "Processing episodes:   0%|          | 0/51 [00:00<?, ?it/s]"
      ]
     },
     "metadata": {},
     "output_type": "display_data"
    },
    {
     "name": "stdout",
     "output_type": "stream",
     "text": [
      "Filtered 65 data point\n"
     ]
    },
    {
     "data": {
      "application/vnd.jupyter.widget-view+json": {
       "model_id": "e7360e72f4c5436f8fa5ea614dd76474",
       "version_major": 2,
       "version_minor": 0
      },
      "text/plain": [
       "Processing episodes:   0%|          | 0/49 [00:00<?, ?it/s]"
      ]
     },
     "metadata": {},
     "output_type": "display_data"
    }
   ],
   "source": [
    "user_df, user_data = data_loading.make_all_episode_data(\n",
    "    files=files,\n",
    "    example_timestep=example_timestep,\n",
    "    base_path=user_base_path,\n",
    "    overwrite=True,\n",
    ")"
   ]
  },
  {
   "cell_type": "code",
   "execution_count": null,
   "id": "1c8b075c-cb9d-4631-a2e1-048589c38045",
   "metadata": {},
   "outputs": [],
   "source": []
  }
 ],
 "metadata": {
  "kernelspec": {
   "display_name": "Python 3 (ipykernel)",
   "language": "python",
   "name": "python3"
  },
  "language_info": {
   "codemirror_mode": {
    "name": "ipython",
    "version": 3
   },
   "file_extension": ".py",
   "mimetype": "text/x-python",
   "name": "python",
   "nbconvert_exporter": "python",
   "pygments_lexer": "ipython3",
   "version": "3.10.15"
  }
 },
 "nbformat": 4,
 "nbformat_minor": 5
}
